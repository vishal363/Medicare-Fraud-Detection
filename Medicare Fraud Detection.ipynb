{
 "cells": [
  {
   "cell_type": "code",
   "execution_count": null,
   "id": "9c165482",
   "metadata": {},
   "outputs": [],
   "source": [
    "# from pyspark.sql import SparkSession\n",
    "\n",
    "# spark = SparkSession.builder \\\n",
    "#     .master('local[*]') \\\n",
    "#     .config(\"spark.driver.memory\", \"100G\") \\\n",
    "#     .config(\"spark.EXECUTOR.memory\", \"100G\") \\\n",
    "#     .appName('my-cool-app') \\\n",
    "#     .getOrCreate()"
   ]
  },
  {
   "cell_type": "code",
   "execution_count": 1,
   "id": "4c4ce7ce",
   "metadata": {},
   "outputs": [],
   "source": [
    "import pandas as pd\n",
    "import numpy as np\n",
    "import scipy\n",
    "import os \n",
    "\n",
    "import matplotlib.pyplot as plt\n",
    "\n",
    "from sklearn.naive_bayes import GaussianNB \n",
    "from sklearn.linear_model import LogisticRegression \n",
    "from sklearn import ensemble \n",
    "from sklearn.ensemble import RandomForestClassifier \n",
    "from sklearn.metrics import brier_score_loss, precision_score, recall_score,f1_score, roc_auc_score, accuracy_score \n",
    "from sklearn.metrics import confusion_matrix, roc_curve\n",
    "from sklearn.metrics import roc_curve, auc\n",
    "\n",
    "from sklearn.preprocessing import StandardScaler \n",
    "from sklearn.feature_extraction import DictVectorizer\n",
    "from sklearn.cluster import KMeans\n",
    "\n",
    "import random\n",
    "\n",
    "from scipy.stats import ttest_ind\n",
    "\n",
    "import time"
   ]
  },
  {
   "cell_type": "code",
   "execution_count": 2,
   "id": "dc46c879",
   "metadata": {},
   "outputs": [],
   "source": [
    "import pandas as pd\n",
    "#!!pip install pyspark\n",
    "\n",
    "from pyspark.sql import SparkSession\n",
    "from pyspark.sql import functions as F\n",
    "\n",
    "from pyspark.sql.functions import split\n",
    "from pyspark.sql.functions import concat_ws\n",
    "from pyspark.sql.functions import when\n",
    "from pyspark.sql.functions import col, when, count, lit\n",
    "\n",
    "spark = SparkSession.builder.appName(\"PySpark create RDD example\").config(\"spark.some.config.option\", \"some-value\").getOrCreate()  "
   ]
  },
  {
   "cell_type": "markdown",
   "id": "6277baef",
   "metadata": {},
   "source": [
    "# a) Data - Loading Medicare Part D Prescribers - by Provider and Drug data"
   ]
  },
  {
   "cell_type": "code",
   "execution_count": 3,
   "id": "53139689",
   "metadata": {},
   "outputs": [
    {
     "name": "stdout",
     "output_type": "stream",
     "text": [
      "The time of execution of above program is : 8572.671890258789 ms\n"
     ]
    }
   ],
   "source": [
    "# a) Loading Medicare Part D Prescribers - by Provider and Drug data\n",
    "\n",
    "# record start time\n",
    "start = time.time()\n",
    "\n",
    "df_partD_pd_test = spark.read.option(\"header\",True) \\\n",
    "     .csv(\"MUP_DPR_RY22_P04_V10_DY20_NPIBN_0.csv\")\n",
    "\n",
    "#df_partD_pd = pd.read_csv(\"MUP_DPR_RY22_P04_V10_DY20_NPIBN_0 (1).csv\",sep=\",\",encoding='latin-1')\n",
    "\n",
    "# record end time\n",
    "end = time.time()\n",
    "\n",
    "# print the difference between start and end time in milli. secs\n",
    "print(\"The time of execution of above program is :\",(end-start) * 10**3, \"ms\")"
   ]
  },
  {
   "cell_type": "code",
   "execution_count": 4,
   "id": "46fffcc4",
   "metadata": {},
   "outputs": [
    {
     "data": {
      "text/plain": [
       "[Row(Prscrbr_NPI='1003000126', Prscrbr_Last_Org_Name='Enkeshafi', Prscrbr_First_Name='Ardalan', Prscrbr_City='Bethesda', Prscrbr_State_Abrvtn='MD', Prscrbr_State_FIPS='24', Prscrbr_Type='Internal Medicine', Prscrbr_Type_Src='S', Brnd_Name='Amiodarone Hcl', Gnrc_Name='Amiodarone Hcl', Tot_Clms='13', Tot_30day_Fills='13.8', Tot_Day_Suply='399', Tot_Drug_Cst='135.38', Tot_Benes=None, GE65_Sprsn_Flag=None, GE65_Tot_Clms='13', GE65_Tot_30day_Fills='13.8', GE65_Tot_Drug_Cst='135.38', GE65_Tot_Day_Suply='399', GE65_Bene_Sprsn_Flag='*', GE65_Tot_Benes=None),\n",
       " Row(Prscrbr_NPI='1003000126', Prscrbr_Last_Org_Name='Enkeshafi', Prscrbr_First_Name='Ardalan', Prscrbr_City='Bethesda', Prscrbr_State_Abrvtn='MD', Prscrbr_State_FIPS='24', Prscrbr_Type='Internal Medicine', Prscrbr_Type_Src='S', Brnd_Name='Amlodipine Besylate', Gnrc_Name='Amlodipine Besylate', Tot_Clms='13', Tot_30day_Fills='19', Tot_Day_Suply='570', Tot_Drug_Cst='42.47', Tot_Benes=None, GE65_Sprsn_Flag='*', GE65_Tot_Clms=None, GE65_Tot_30day_Fills=None, GE65_Tot_Drug_Cst=None, GE65_Tot_Day_Suply=None, GE65_Bene_Sprsn_Flag='*', GE65_Tot_Benes=None)]"
      ]
     },
     "execution_count": 4,
     "metadata": {},
     "output_type": "execute_result"
    }
   ],
   "source": [
    "df_partD_pd_test.take(2)"
   ]
  },
  {
   "cell_type": "code",
   "execution_count": 5,
   "id": "8770e730",
   "metadata": {},
   "outputs": [
    {
     "name": "stdout",
     "output_type": "stream",
     "text": [
      "+-----------+---------------------+------------------+------------+--------------------+------------------+-----------------+----------------+-------------------+-------------------+--------+---------------+-------------+------------+---------+---------------+-------------+--------------------+-----------------+------------------+--------------------+--------------+\n",
      "|Prscrbr_NPI|Prscrbr_Last_Org_Name|Prscrbr_First_Name|Prscrbr_City|Prscrbr_State_Abrvtn|Prscrbr_State_FIPS|     Prscrbr_Type|Prscrbr_Type_Src|          Brnd_Name|          Gnrc_Name|Tot_Clms|Tot_30day_Fills|Tot_Day_Suply|Tot_Drug_Cst|Tot_Benes|GE65_Sprsn_Flag|GE65_Tot_Clms|GE65_Tot_30day_Fills|GE65_Tot_Drug_Cst|GE65_Tot_Day_Suply|GE65_Bene_Sprsn_Flag|GE65_Tot_Benes|\n",
      "+-----------+---------------------+------------------+------------+--------------------+------------------+-----------------+----------------+-------------------+-------------------+--------+---------------+-------------+------------+---------+---------------+-------------+--------------------+-----------------+------------------+--------------------+--------------+\n",
      "| 1003000126|            Enkeshafi|           Ardalan|    Bethesda|                  MD|                24|Internal Medicine|               S|     Amiodarone Hcl|     Amiodarone Hcl|      13|           13.8|          399|      135.38|     null|           null|           13|                13.8|           135.38|               399|                   *|          null|\n",
      "| 1003000126|            Enkeshafi|           Ardalan|    Bethesda|                  MD|                24|Internal Medicine|               S|Amlodipine Besylate|Amlodipine Besylate|      13|             19|          570|       42.47|     null|              *|         null|                null|             null|              null|                   *|          null|\n",
      "+-----------+---------------------+------------------+------------+--------------------+------------------+-----------------+----------------+-------------------+-------------------+--------+---------------+-------------+------------+---------+---------------+-------------+--------------------+-----------------+------------------+--------------------+--------------+\n",
      "only showing top 2 rows\n",
      "\n"
     ]
    }
   ],
   "source": [
    "df_partD_pd_test.show(2)"
   ]
  },
  {
   "cell_type": "code",
   "execution_count": 6,
   "id": "e2805c22",
   "metadata": {},
   "outputs": [
    {
     "name": "stdout",
     "output_type": "stream",
     "text": [
      "root\n",
      " |-- Prscrbr_NPI: string (nullable = true)\n",
      " |-- Prscrbr_Last_Org_Name: string (nullable = true)\n",
      " |-- Prscrbr_First_Name: string (nullable = true)\n",
      " |-- Prscrbr_City: string (nullable = true)\n",
      " |-- Prscrbr_State_Abrvtn: string (nullable = true)\n",
      " |-- Prscrbr_State_FIPS: string (nullable = true)\n",
      " |-- Prscrbr_Type: string (nullable = true)\n",
      " |-- Prscrbr_Type_Src: string (nullable = true)\n",
      " |-- Brnd_Name: string (nullable = true)\n",
      " |-- Gnrc_Name: string (nullable = true)\n",
      " |-- Tot_Clms: string (nullable = true)\n",
      " |-- Tot_30day_Fills: string (nullable = true)\n",
      " |-- Tot_Day_Suply: string (nullable = true)\n",
      " |-- Tot_Drug_Cst: string (nullable = true)\n",
      " |-- Tot_Benes: string (nullable = true)\n",
      " |-- GE65_Sprsn_Flag: string (nullable = true)\n",
      " |-- GE65_Tot_Clms: string (nullable = true)\n",
      " |-- GE65_Tot_30day_Fills: string (nullable = true)\n",
      " |-- GE65_Tot_Drug_Cst: string (nullable = true)\n",
      " |-- GE65_Tot_Day_Suply: string (nullable = true)\n",
      " |-- GE65_Bene_Sprsn_Flag: string (nullable = true)\n",
      " |-- GE65_Tot_Benes: string (nullable = true)\n",
      "\n"
     ]
    },
    {
     "data": {
      "text/plain": [
       "['Prscrbr_NPI',\n",
       " 'Prscrbr_Last_Org_Name',\n",
       " 'Prscrbr_First_Name',\n",
       " 'Prscrbr_City',\n",
       " 'Prscrbr_State_Abrvtn',\n",
       " 'Prscrbr_State_FIPS',\n",
       " 'Prscrbr_Type',\n",
       " 'Prscrbr_Type_Src',\n",
       " 'Brnd_Name',\n",
       " 'Gnrc_Name',\n",
       " 'Tot_Clms',\n",
       " 'Tot_30day_Fills',\n",
       " 'Tot_Day_Suply',\n",
       " 'Tot_Drug_Cst',\n",
       " 'Tot_Benes',\n",
       " 'GE65_Sprsn_Flag',\n",
       " 'GE65_Tot_Clms',\n",
       " 'GE65_Tot_30day_Fills',\n",
       " 'GE65_Tot_Drug_Cst',\n",
       " 'GE65_Tot_Day_Suply',\n",
       " 'GE65_Bene_Sprsn_Flag',\n",
       " 'GE65_Tot_Benes']"
      ]
     },
     "execution_count": 6,
     "metadata": {},
     "output_type": "execute_result"
    }
   ],
   "source": [
    "df_partD_pd_test.printSchema()\n",
    "df_partD_pd_test.columns"
   ]
  },
  {
   "cell_type": "code",
   "execution_count": 7,
   "id": "d14dc75a",
   "metadata": {},
   "outputs": [
    {
     "name": "stdout",
     "output_type": "stream",
     "text": [
      "(25209729, 22)\n"
     ]
    }
   ],
   "source": [
    "print((df_partD_pd_test.count(), len(df_partD_pd_test.columns)))"
   ]
  },
  {
   "cell_type": "code",
   "execution_count": 8,
   "id": "946ac7ea",
   "metadata": {},
   "outputs": [],
   "source": [
    "df_partD_pd = df_partD_pd_test"
   ]
  },
  {
   "cell_type": "code",
   "execution_count": 9,
   "id": "fae3fd3e",
   "metadata": {},
   "outputs": [],
   "source": [
    "partD_Drug_pd1 = df_partD_pd.select('Prscrbr_NPI',\n",
    "                                   'Prscrbr_City',\n",
    "                                   'Prscrbr_State_Abrvtn',\n",
    "                                   'Prscrbr_State_FIPS',\n",
    "                                   'Prscrbr_Last_Org_Name',\n",
    "                                   'Prscrbr_First_Name',\n",
    "                                   'Prscrbr_Type',\n",
    "                                   'Brnd_Name',\n",
    "                                   'Gnrc_Name',\n",
    "                                   'Tot_Drug_Cst',\n",
    "                                   'GE65_Tot_Clms',\n",
    "                                   'GE65_Tot_Day_Suply')"
   ]
  },
  {
   "cell_type": "code",
   "execution_count": 10,
   "id": "6f80b3d0",
   "metadata": {},
   "outputs": [
    {
     "name": "stdout",
     "output_type": "stream",
     "text": [
      "(25209729, 12)\n",
      "root\n",
      " |-- Prscrbr_NPI: string (nullable = true)\n",
      " |-- Prscrbr_City: string (nullable = true)\n",
      " |-- Prscrbr_State_Abrvtn: string (nullable = true)\n",
      " |-- Prscrbr_State_FIPS: string (nullable = true)\n",
      " |-- Prscrbr_Last_Org_Name: string (nullable = true)\n",
      " |-- Prscrbr_First_Name: string (nullable = true)\n",
      " |-- Prscrbr_Type: string (nullable = true)\n",
      " |-- Brnd_Name: string (nullable = true)\n",
      " |-- Gnrc_Name: string (nullable = true)\n",
      " |-- Tot_Drug_Cst: string (nullable = true)\n",
      " |-- GE65_Tot_Clms: string (nullable = true)\n",
      " |-- GE65_Tot_Day_Suply: string (nullable = true)\n",
      "\n"
     ]
    }
   ],
   "source": [
    "print((partD_Drug_pd1.count(), len(partD_Drug_pd1.columns)))\n",
    "partD_Drug_pd1.printSchema()"
   ]
  },
  {
   "cell_type": "code",
   "execution_count": 11,
   "id": "0fb33687",
   "metadata": {},
   "outputs": [],
   "source": [
    "df_partD_pd_1 = partD_Drug_pd1"
   ]
  },
  {
   "cell_type": "code",
   "execution_count": 12,
   "id": "608b7569",
   "metadata": {},
   "outputs": [
    {
     "name": "stdout",
     "output_type": "stream",
     "text": [
      "root\n",
      " |-- Prscrbr_NPI: string (nullable = true)\n",
      " |-- Gnrc_Name: string (nullable = true)\n",
      " |-- Tot_Drug_Cst: string (nullable = true)\n",
      " |-- GE65_Tot_Clms: string (nullable = true)\n",
      " |-- GE65_Tot_Day_Suply: string (nullable = true)\n",
      " |-- Prscrbr_Type: string (nullable = true)\n",
      "\n"
     ]
    }
   ],
   "source": [
    "partD_Drug_pd = df_partD_pd.select('Prscrbr_NPI',\n",
    "                                   'Gnrc_Name',\n",
    "                                   'Tot_Drug_Cst',\n",
    "                                   'GE65_Tot_Clms',\n",
    "                                   'GE65_Tot_Day_Suply',\n",
    "                                   'Prscrbr_Type')\n",
    "partD_Drug_pd.printSchema()\n",
    "#partD_Drug_pd.head(5)"
   ]
  },
  {
   "cell_type": "code",
   "execution_count": 13,
   "id": "73877d2c",
   "metadata": {},
   "outputs": [
    {
     "name": "stdout",
     "output_type": "stream",
     "text": [
      "root\n",
      " |-- Prscrbr_NPI: string (nullable = true)\n",
      " |-- Prscrbr_Type: string (nullable = true)\n",
      "\n"
     ]
    }
   ],
   "source": [
    "partD_Spec_pd1 = df_partD_pd.select('Prscrbr_NPI','Prscrbr_Type')\n",
    "partD_Spec_pd1.printSchema()\n",
    "#partD_Spec_pd1.head(5)"
   ]
  },
  {
   "cell_type": "code",
   "execution_count": 14,
   "id": "54041bd1",
   "metadata": {},
   "outputs": [
    {
     "name": "stdout",
     "output_type": "stream",
     "text": [
      "root\n",
      " |-- Prscrbr_NPI: string (nullable = true)\n",
      " |-- Prscrbr_City: string (nullable = true)\n",
      " |-- Prscrbr_State_Abrvtn: string (nullable = true)\n",
      " |-- Prscrbr_State_FIPS: string (nullable = true)\n",
      " |-- Prscrbr_Last_Org_Name: string (nullable = true)\n",
      " |-- Prscrbr_First_Name: string (nullable = true)\n",
      " |-- Prscrbr_Type: string (nullable = true)\n",
      "\n"
     ]
    }
   ],
   "source": [
    "partD_pd0 = df_partD_pd.select('Prscrbr_NPI',\n",
    "                               'Prscrbr_City',\n",
    "                               'Prscrbr_State_Abrvtn',\n",
    "                               'Prscrbr_State_FIPS',\n",
    "                               'Prscrbr_Last_Org_Name',\n",
    "                               'Prscrbr_First_Name',\n",
    "                               'Prscrbr_Type')\n",
    "partD_pd0.printSchema()\n",
    "#print((partD_Drug_pd1.count(), len(partD_Drug_pd1.columns)))\n",
    "#partD_pd0.head(5)"
   ]
  },
  {
   "cell_type": "code",
   "execution_count": 15,
   "id": "a22f079d",
   "metadata": {},
   "outputs": [
    {
     "name": "stdout",
     "output_type": "stream",
     "text": [
      "(983636, 7)\n"
     ]
    }
   ],
   "source": [
    "partD_catfpd = partD_pd0.dropDuplicates()\n",
    "print((partD_catfpd.count(), len(partD_catfpd.columns)))\n",
    "#partD_catfpd.head(5)"
   ]
  },
  {
   "cell_type": "code",
   "execution_count": 16,
   "id": "c30a3167",
   "metadata": {},
   "outputs": [
    {
     "name": "stdout",
     "output_type": "stream",
     "text": [
      "root\n",
      " |-- Prscrbr_NPI: string (nullable = true)\n",
      " |-- city: string (nullable = true)\n",
      " |-- state: string (nullable = true)\n",
      " |-- Prscrbr_State_FIPS: string (nullable = true)\n",
      " |-- last_name: string (nullable = true)\n",
      " |-- first_name: string (nullable = true)\n",
      " |-- Speciality: string (nullable = true)\n",
      "\n"
     ]
    }
   ],
   "source": [
    "rename_col = ['Prscrbr_NPI',\n",
    "              'city',\n",
    "              'state',\n",
    "              'Prscrbr_State_FIPS',\n",
    "              'last_name',\n",
    "              'first_name',\n",
    "              'Speciality']\n",
    "partD_catfpd = partD_catfpd.toDF(*rename_col)\n",
    "\n",
    "partD_catfpd.printSchema()"
   ]
  },
  {
   "cell_type": "code",
   "execution_count": 17,
   "id": "779a9caf",
   "metadata": {},
   "outputs": [],
   "source": [
    "#print((partD_catfpd.count(), len(partD_catfpd.columns)))\n",
    "#partD_catfpd.head(5)"
   ]
  },
  {
   "cell_type": "code",
   "execution_count": 18,
   "id": "4bc5d49d",
   "metadata": {},
   "outputs": [
    {
     "name": "stdout",
     "output_type": "stream",
     "text": [
      "root\n",
      " |-- Prscrbr_NPI: string (nullable = true)\n",
      " |-- Prscrbr_City: string (nullable = true)\n",
      " |-- Prscrbr_State_Abrvtn: string (nullable = true)\n",
      " |-- Prscrbr_State_FIPS: string (nullable = true)\n",
      " |-- Prscrbr_Last_Org_Name: string (nullable = true)\n",
      " |-- Prscrbr_First_Name: string (nullable = true)\n",
      " |-- Prscrbr_Type: string (nullable = true)\n",
      " |-- Brnd_Name: string (nullable = true)\n",
      " |-- Gnrc_Name: string (nullable = true)\n",
      " |-- Tot_Drug_Cst: string (nullable = true)\n",
      " |-- GE65_Tot_Clms: string (nullable = true)\n",
      " |-- GE65_Tot_Day_Suply: string (nullable = true)\n",
      "\n",
      "root\n",
      " |-- Prscrbr_NPI: string (nullable = true)\n",
      " |-- Prscrbr_City: string (nullable = true)\n",
      " |-- Prscrbr_State_Abrvtn: string (nullable = true)\n",
      " |-- Prscrbr_State_FIPS: string (nullable = true)\n",
      " |-- Prscrbr_Last_Org_Name: string (nullable = true)\n",
      " |-- Prscrbr_First_Name: string (nullable = true)\n",
      " |-- Prscrbr_Type: string (nullable = true)\n",
      " |-- Brnd_Name: string (nullable = true)\n",
      " |-- Gnrc_Name: string (nullable = true)\n",
      " |-- Tot_Drug_Cst: double (nullable = true)\n",
      " |-- GE65_Tot_Clms: double (nullable = true)\n",
      " |-- GE65_Tot_Day_Suply: double (nullable = true)\n",
      "\n"
     ]
    }
   ],
   "source": [
    "df_partD_pd_1.printSchema()\n",
    "\n",
    "cols = ['Tot_Drug_Cst','GE65_Tot_Clms','GE65_Tot_Day_Suply']\n",
    "for col_name in cols:\n",
    "    df_partD_pd_1 = df_partD_pd_1.withColumn(col_name, col(col_name).cast('double'))\n",
    "\n",
    "df_partD_pd_1.printSchema()"
   ]
  },
  {
   "cell_type": "code",
   "execution_count": 19,
   "id": "e3e56798",
   "metadata": {},
   "outputs": [],
   "source": [
    "#df_partD_pd_1.head(1)"
   ]
  },
  {
   "cell_type": "code",
   "execution_count": 20,
   "id": "c81cae66",
   "metadata": {},
   "outputs": [],
   "source": [
    "partD_fpd = df_partD_pd_1.groupby('Prscrbr_NPI') \\\n",
    "            .agg(F.sum(\"Tot_Drug_Cst\").alias('Tot_Drug_Cst_sum'),\n",
    "                 F.avg('Tot_Drug_Cst').alias('Tot_Drug_Cst_mean'),\n",
    "                 F.max('Tot_Drug_Cst').alias('Tot_Drug_Cst_max'),\n",
    "                 F.sum('GE65_Tot_Clms').alias('GE65_Tot_Clms_sum'),\n",
    "                 F.avg('GE65_Tot_Clms').alias('GE65_Tot_Clms_mean'),\n",
    "                 F.max('GE65_Tot_Clms').alias('GE65_Tot_Clms_max'),\n",
    "                 F.sum('GE65_Tot_Day_Suply').alias('GE65_Tot_Day_Suply_sum'),\n",
    "                 F.avg('GE65_Tot_Day_Suply').alias('GE65_Tot_Day_Suply_mean'),\n",
    "                 F.max('GE65_Tot_Day_Suply').alias('GE65_Tot_Day_Suply_max'),\n",
    "                )"
   ]
  },
  {
   "cell_type": "code",
   "execution_count": 21,
   "id": "71b872f9",
   "metadata": {},
   "outputs": [
    {
     "name": "stdout",
     "output_type": "stream",
     "text": [
      "+-----------+------------------+------------------+----------------+-----------------+------------------+-----------------+----------------------+-----------------------+----------------------+\n",
      "|Prscrbr_NPI|  Tot_Drug_Cst_sum| Tot_Drug_Cst_mean|Tot_Drug_Cst_max|GE65_Tot_Clms_sum|GE65_Tot_Clms_mean|GE65_Tot_Clms_max|GE65_Tot_Day_Suply_sum|GE65_Tot_Day_Suply_mean|GE65_Tot_Day_Suply_max|\n",
      "+-----------+------------------+------------------+----------------+-----------------+------------------+-----------------+----------------------+-----------------------+----------------------+\n",
      "| 1003017104|           4853.84|           4853.84|         4853.84|              0.0|               0.0|              0.0|                   0.0|                    0.0|                   0.0|\n",
      "| 1003017906|237115.20000000004|2155.5927272727276|        34285.12|           2656.0| 47.42857142857143|            284.0|              166189.0|      2967.660714285714|               22420.0|\n",
      "| 1003075516| 313636.8599999999| 4900.575937499999|        52909.31|           2237.0| 49.71111111111111|            265.0|               86594.0|     1924.3111111111111|                9600.0|\n",
      "| 1003097478|            101.44|            101.44|          101.44|             30.0|              30.0|             30.0|                 160.0|                  160.0|                 160.0|\n",
      "| 1003125048|           3120.36|            780.09|         1335.85|              0.0|               0.0|              0.0|                   0.0|                    0.0|                   0.0|\n",
      "+-----------+------------------+------------------+----------------+-----------------+------------------+-----------------+----------------------+-----------------------+----------------------+\n",
      "only showing top 5 rows\n",
      "\n"
     ]
    }
   ],
   "source": [
    "partD_fpd.show(5)"
   ]
  },
  {
   "cell_type": "code",
   "execution_count": 22,
   "id": "78543a77",
   "metadata": {},
   "outputs": [
    {
     "name": "stdout",
     "output_type": "stream",
     "text": [
      "(983636, 16)\n",
      "root\n",
      " |-- Prscrbr_NPI: string (nullable = true)\n",
      " |-- Tot_Drug_Cst_sum: double (nullable = true)\n",
      " |-- Tot_Drug_Cst_mean: double (nullable = true)\n",
      " |-- Tot_Drug_Cst_max: double (nullable = true)\n",
      " |-- GE65_Tot_Clms_sum: double (nullable = true)\n",
      " |-- GE65_Tot_Clms_mean: double (nullable = true)\n",
      " |-- GE65_Tot_Clms_max: double (nullable = true)\n",
      " |-- GE65_Tot_Day_Suply_sum: double (nullable = true)\n",
      " |-- GE65_Tot_Day_Suply_mean: double (nullable = true)\n",
      " |-- GE65_Tot_Day_Suply_max: double (nullable = true)\n",
      " |-- city: string (nullable = true)\n",
      " |-- state: string (nullable = true)\n",
      " |-- Prscrbr_State_FIPS: string (nullable = true)\n",
      " |-- last_name: string (nullable = true)\n",
      " |-- first_name: string (nullable = true)\n",
      " |-- Speciality: string (nullable = true)\n",
      "\n",
      "+-----------+----------------+-----------------+----------------+-----------------+------------------+-----------------+----------------------+-----------------------+----------------------+------------------+-----+------------------+---------+----------+----------+\n",
      "|Prscrbr_NPI|Tot_Drug_Cst_sum|Tot_Drug_Cst_mean|Tot_Drug_Cst_max|GE65_Tot_Clms_sum|GE65_Tot_Clms_mean|GE65_Tot_Clms_max|GE65_Tot_Day_Suply_sum|GE65_Tot_Day_Suply_mean|GE65_Tot_Day_Suply_max|              city|state|Prscrbr_State_FIPS|last_name|first_name|Speciality|\n",
      "+-----------+----------------+-----------------+----------------+-----------------+------------------+-----------------+----------------------+-----------------------+----------------------+------------------+-----+------------------+---------+----------+----------+\n",
      "| 1003017104|         4853.84|          4853.84|         4853.84|              0.0|               0.0|              0.0|                   0.0|                    0.0|                   0.0|Middleburg Heights|   OH|                39|   Luther|   Charles|Psychiatry|\n",
      "+-----------+----------------+-----------------+----------------+-----------------+------------------+-----------------+----------------------+-----------------------+----------------------+------------------+-----+------------------+---------+----------+----------+\n",
      "only showing top 1 row\n",
      "\n"
     ]
    }
   ],
   "source": [
    "partD_allpd = partD_fpd.join(partD_catfpd, on='Prscrbr_NPI', how='left_outer') #https://learn.microsoft.com/en-us/azure/databricks/getting-started/dataframes-python\n",
    "\n",
    "print((partD_allpd.count(), len(partD_allpd.columns)))\n",
    "partD_allpd.printSchema()\n",
    "partD_allpd.show(1)"
   ]
  },
  {
   "cell_type": "code",
   "execution_count": null,
   "id": "38d2f02c",
   "metadata": {},
   "outputs": [],
   "source": []
  },
  {
   "cell_type": "markdown",
   "id": "1cf39be8",
   "metadata": {},
   "source": [
    "# b) Data - Loading Payment dataset"
   ]
  },
  {
   "cell_type": "code",
   "execution_count": 23,
   "id": "cd9c0be7",
   "metadata": {},
   "outputs": [
    {
     "name": "stdout",
     "output_type": "stream",
     "text": [
      "The time of execution of above program is : 323.9023685455322 ms\n"
     ]
    }
   ],
   "source": [
    "# b) Loading Payment Data\n",
    "\n",
    "# record start time\n",
    "start = time.time()\n",
    "\n",
    "payment_pd = spark.read.option(\"header\",True).csv(\"OP_DTL_GNRL_PGYR2020_P01202023.csv\")\n",
    "\n",
    "# record end time\n",
    "end = time.time()\n",
    "\n",
    "# print the difference between start and end time in milli. secs\n",
    "print(\"The time of execution of above program is :\",(end-start) * 10**3, \"ms\")"
   ]
  },
  {
   "cell_type": "code",
   "execution_count": 24,
   "id": "4f9ac6b8",
   "metadata": {},
   "outputs": [
    {
     "name": "stdout",
     "output_type": "stream",
     "text": [
      "(5823162, 91)\n",
      "root\n",
      " |-- Change_Type: string (nullable = true)\n",
      " |-- Covered_Recipient_Type: string (nullable = true)\n",
      " |-- Teaching_Hospital_CCN: string (nullable = true)\n",
      " |-- Teaching_Hospital_ID: string (nullable = true)\n",
      " |-- Teaching_Hospital_Name: string (nullable = true)\n",
      " |-- Covered_Recipient_Profile_ID: string (nullable = true)\n",
      " |-- Covered_Recipient_NPI: string (nullable = true)\n",
      " |-- Covered_Recipient_First_Name: string (nullable = true)\n",
      " |-- Covered_Recipient_Middle_Name: string (nullable = true)\n",
      " |-- Covered_Recipient_Last_Name: string (nullable = true)\n",
      " |-- Covered_Recipient_Name_Suffix: string (nullable = true)\n",
      " |-- Recipient_Primary_Business_Street_Address_Line1: string (nullable = true)\n",
      " |-- Recipient_Primary_Business_Street_Address_Line2: string (nullable = true)\n",
      " |-- Recipient_City: string (nullable = true)\n",
      " |-- Recipient_State: string (nullable = true)\n",
      " |-- Recipient_Zip_Code: string (nullable = true)\n",
      " |-- Recipient_Country: string (nullable = true)\n",
      " |-- Recipient_Province: string (nullable = true)\n",
      " |-- Recipient_Postal_Code: string (nullable = true)\n",
      " |-- Covered_Recipient_Primary_Type_1: string (nullable = true)\n",
      " |-- Covered_Recipient_Primary_Type_2: string (nullable = true)\n",
      " |-- Covered_Recipient_Primary_Type_3: string (nullable = true)\n",
      " |-- Covered_Recipient_Primary_Type_4: string (nullable = true)\n",
      " |-- Covered_Recipient_Primary_Type_5: string (nullable = true)\n",
      " |-- Covered_Recipient_Primary_Type_6: string (nullable = true)\n",
      " |-- Covered_Recipient_Specialty_1: string (nullable = true)\n",
      " |-- Covered_Recipient_Specialty_2: string (nullable = true)\n",
      " |-- Covered_Recipient_Specialty_3: string (nullable = true)\n",
      " |-- Covered_Recipient_Specialty_4: string (nullable = true)\n",
      " |-- Covered_Recipient_Specialty_5: string (nullable = true)\n",
      " |-- Covered_Recipient_Specialty_6: string (nullable = true)\n",
      " |-- Covered_Recipient_License_State_code1: string (nullable = true)\n",
      " |-- Covered_Recipient_License_State_code2: string (nullable = true)\n",
      " |-- Covered_Recipient_License_State_code3: string (nullable = true)\n",
      " |-- Covered_Recipient_License_State_code4: string (nullable = true)\n",
      " |-- Covered_Recipient_License_State_code5: string (nullable = true)\n",
      " |-- Submitting_Applicable_Manufacturer_or_Applicable_GPO_Name: string (nullable = true)\n",
      " |-- Applicable_Manufacturer_or_Applicable_GPO_Making_Payment_ID: string (nullable = true)\n",
      " |-- Applicable_Manufacturer_or_Applicable_GPO_Making_Payment_Name: string (nullable = true)\n",
      " |-- Applicable_Manufacturer_or_Applicable_GPO_Making_Payment_State: string (nullable = true)\n",
      " |-- Applicable_Manufacturer_or_Applicable_GPO_Making_Payment_Country: string (nullable = true)\n",
      " |-- Total_Amount_of_Payment_USDollars: string (nullable = true)\n",
      " |-- Date_of_Payment: string (nullable = true)\n",
      " |-- Number_of_Payments_Included_in_Total_Amount: string (nullable = true)\n",
      " |-- Form_of_Payment_or_Transfer_of_Value: string (nullable = true)\n",
      " |-- Nature_of_Payment_or_Transfer_of_Value: string (nullable = true)\n",
      " |-- City_of_Travel: string (nullable = true)\n",
      " |-- State_of_Travel: string (nullable = true)\n",
      " |-- Country_of_Travel: string (nullable = true)\n",
      " |-- Physician_Ownership_Indicator: string (nullable = true)\n",
      " |-- Third_Party_Payment_Recipient_Indicator: string (nullable = true)\n",
      " |-- Name_of_Third_Party_Entity_Receiving_Payment_or_Transfer_of_Value: string (nullable = true)\n",
      " |-- Charity_Indicator: string (nullable = true)\n",
      " |-- Third_Party_Equals_Covered_Recipient_Indicator: string (nullable = true)\n",
      " |-- Contextual_Information: string (nullable = true)\n",
      " |-- Delay_in_Publication_Indicator: string (nullable = true)\n",
      " |-- Record_ID: string (nullable = true)\n",
      " |-- Dispute_Status_for_Publication: string (nullable = true)\n",
      " |-- Related_Product_Indicator: string (nullable = true)\n",
      " |-- Covered_or_Noncovered_Indicator_1: string (nullable = true)\n",
      " |-- Indicate_Drug_or_Biological_or_Device_or_Medical_Supply_1: string (nullable = true)\n",
      " |-- Product_Category_or_Therapeutic_Area_1: string (nullable = true)\n",
      " |-- Name_of_Drug_or_Biological_or_Device_or_Medical_Supply_1: string (nullable = true)\n",
      " |-- Associated_Drug_or_Biological_NDC_1: string (nullable = true)\n",
      " |-- Associated_Device_or_Medical_Supply_PDI_1: string (nullable = true)\n",
      " |-- Covered_or_Noncovered_Indicator_2: string (nullable = true)\n",
      " |-- Indicate_Drug_or_Biological_or_Device_or_Medical_Supply_2: string (nullable = true)\n",
      " |-- Product_Category_or_Therapeutic_Area_2: string (nullable = true)\n",
      " |-- Name_of_Drug_or_Biological_or_Device_or_Medical_Supply_2: string (nullable = true)\n",
      " |-- Associated_Drug_or_Biological_NDC_2: string (nullable = true)\n",
      " |-- Associated_Device_or_Medical_Supply_PDI_2: string (nullable = true)\n",
      " |-- Covered_or_Noncovered_Indicator_3: string (nullable = true)\n",
      " |-- Indicate_Drug_or_Biological_or_Device_or_Medical_Supply_3: string (nullable = true)\n",
      " |-- Product_Category_or_Therapeutic_Area_3: string (nullable = true)\n",
      " |-- Name_of_Drug_or_Biological_or_Device_or_Medical_Supply_3: string (nullable = true)\n",
      " |-- Associated_Drug_or_Biological_NDC_3: string (nullable = true)\n",
      " |-- Associated_Device_or_Medical_Supply_PDI_3: string (nullable = true)\n",
      " |-- Covered_or_Noncovered_Indicator_4: string (nullable = true)\n",
      " |-- Indicate_Drug_or_Biological_or_Device_or_Medical_Supply_4: string (nullable = true)\n",
      " |-- Product_Category_or_Therapeutic_Area_4: string (nullable = true)\n",
      " |-- Name_of_Drug_or_Biological_or_Device_or_Medical_Supply_4: string (nullable = true)\n",
      " |-- Associated_Drug_or_Biological_NDC_4: string (nullable = true)\n",
      " |-- Associated_Device_or_Medical_Supply_PDI_4: string (nullable = true)\n",
      " |-- Covered_or_Noncovered_Indicator_5: string (nullable = true)\n",
      " |-- Indicate_Drug_or_Biological_or_Device_or_Medical_Supply_5: string (nullable = true)\n",
      " |-- Product_Category_or_Therapeutic_Area_5: string (nullable = true)\n",
      " |-- Name_of_Drug_or_Biological_or_Device_or_Medical_Supply_5: string (nullable = true)\n",
      " |-- Associated_Drug_or_Biological_NDC_5: string (nullable = true)\n",
      " |-- Associated_Device_or_Medical_Supply_PDI_5: string (nullable = true)\n",
      " |-- Program_Year: string (nullable = true)\n",
      " |-- Payment_Publication_Date: string (nullable = true)\n",
      "\n"
     ]
    }
   ],
   "source": [
    "print((payment_pd.count(), len(payment_pd.columns)))\n",
    "payment_pd.printSchema()"
   ]
  },
  {
   "cell_type": "code",
   "execution_count": 25,
   "id": "89789c28",
   "metadata": {},
   "outputs": [
    {
     "name": "stdout",
     "output_type": "stream",
     "text": [
      "-RECORD 0---------------------------------------------------------------------------------\n",
      " Change_Type                                                       | UNCHANGED            \n",
      " Covered_Recipient_Type                                            | Covered Recipient... \n",
      " Teaching_Hospital_CCN                                             | null                 \n",
      " Teaching_Hospital_ID                                              | null                 \n",
      " Teaching_Hospital_Name                                            | null                 \n",
      " Covered_Recipient_Profile_ID                                      | 557946               \n",
      " Covered_Recipient_NPI                                             | 1841302403           \n",
      " Covered_Recipient_First_Name                                      | Vikas                \n",
      " Covered_Recipient_Middle_Name                                     | Kumar                \n",
      " Covered_Recipient_Last_Name                                       | Pilly                \n",
      " Covered_Recipient_Name_Suffix                                     | null                 \n",
      " Recipient_Primary_Business_Street_Address_Line1                   | 400 International... \n",
      " Recipient_Primary_Business_Street_Address_Line2                   | null                 \n",
      " Recipient_City                                                    | Williamsville        \n",
      " Recipient_State                                                   | NY                   \n",
      " Recipient_Zip_Code                                                | 14221-5771           \n",
      " Recipient_Country                                                 | United States        \n",
      " Recipient_Province                                                | null                 \n",
      " Recipient_Postal_Code                                             | null                 \n",
      " Covered_Recipient_Primary_Type_1                                  | Medical Doctor       \n",
      " Covered_Recipient_Primary_Type_2                                  | null                 \n",
      " Covered_Recipient_Primary_Type_3                                  | null                 \n",
      " Covered_Recipient_Primary_Type_4                                  | null                 \n",
      " Covered_Recipient_Primary_Type_5                                  | null                 \n",
      " Covered_Recipient_Primary_Type_6                                  | null                 \n",
      " Covered_Recipient_Specialty_1                                     | Allopathic & Oste... \n",
      " Covered_Recipient_Specialty_2                                     | null                 \n",
      " Covered_Recipient_Specialty_3                                     | null                 \n",
      " Covered_Recipient_Specialty_4                                     | null                 \n",
      " Covered_Recipient_Specialty_5                                     | null                 \n",
      " Covered_Recipient_Specialty_6                                     | null                 \n",
      " Covered_Recipient_License_State_code1                             | OH                   \n",
      " Covered_Recipient_License_State_code2                             | null                 \n",
      " Covered_Recipient_License_State_code3                             | null                 \n",
      " Covered_Recipient_License_State_code4                             | null                 \n",
      " Covered_Recipient_License_State_code5                             | null                 \n",
      " Submitting_Applicable_Manufacturer_or_Applicable_GPO_Name         | Caerus Corp.         \n",
      " Applicable_Manufacturer_or_Applicable_GPO_Making_Payment_ID       | 100000246826         \n",
      " Applicable_Manufacturer_or_Applicable_GPO_Making_Payment_Name     | Caerus Corp.         \n",
      " Applicable_Manufacturer_or_Applicable_GPO_Making_Payment_State    | MN                   \n",
      " Applicable_Manufacturer_or_Applicable_GPO_Making_Payment_Country  | United States        \n",
      " Total_Amount_of_Payment_USDollars                                 | 14875.00             \n",
      " Date_of_Payment                                                   | 08/19/2020           \n",
      " Number_of_Payments_Included_in_Total_Amount                       | 1                    \n",
      " Form_of_Payment_or_Transfer_of_Value                              | Cash or cash equi... \n",
      " Nature_of_Payment_or_Transfer_of_Value                            | Consulting Fee       \n",
      " City_of_Travel                                                    | null                 \n",
      " State_of_Travel                                                   | null                 \n",
      " Country_of_Travel                                                 | null                 \n",
      " Physician_Ownership_Indicator                                     | No                   \n",
      " Third_Party_Payment_Recipient_Indicator                           | No Third Party Pa... \n",
      " Name_of_Third_Party_Entity_Receiving_Payment_or_Transfer_of_Value | null                 \n",
      " Charity_Indicator                                                 | null                 \n",
      " Third_Party_Equals_Covered_Recipient_Indicator                    | null                 \n",
      " Contextual_Information                                            | null                 \n",
      " Delay_in_Publication_Indicator                                    | No                   \n",
      " Record_ID                                                         | 709231379            \n",
      " Dispute_Status_for_Publication                                    | No                   \n",
      " Related_Product_Indicator                                         | No                   \n",
      " Covered_or_Noncovered_Indicator_1                                 | null                 \n",
      " Indicate_Drug_or_Biological_or_Device_or_Medical_Supply_1         | null                 \n",
      " Product_Category_or_Therapeutic_Area_1                            | null                 \n",
      " Name_of_Drug_or_Biological_or_Device_or_Medical_Supply_1          | null                 \n",
      " Associated_Drug_or_Biological_NDC_1                               | null                 \n",
      " Associated_Device_or_Medical_Supply_PDI_1                         | N/A                  \n",
      " Covered_or_Noncovered_Indicator_2                                 | null                 \n",
      " Indicate_Drug_or_Biological_or_Device_or_Medical_Supply_2         | null                 \n",
      " Product_Category_or_Therapeutic_Area_2                            | null                 \n",
      " Name_of_Drug_or_Biological_or_Device_or_Medical_Supply_2          | null                 \n",
      " Associated_Drug_or_Biological_NDC_2                               | null                 \n",
      " Associated_Device_or_Medical_Supply_PDI_2                         | N/A                  \n",
      " Covered_or_Noncovered_Indicator_3                                 | null                 \n",
      " Indicate_Drug_or_Biological_or_Device_or_Medical_Supply_3         | null                 \n",
      " Product_Category_or_Therapeutic_Area_3                            | null                 \n",
      " Name_of_Drug_or_Biological_or_Device_or_Medical_Supply_3          | null                 \n",
      " Associated_Drug_or_Biological_NDC_3                               | null                 \n",
      " Associated_Device_or_Medical_Supply_PDI_3                         | N/A                  \n",
      " Covered_or_Noncovered_Indicator_4                                 | null                 \n",
      " Indicate_Drug_or_Biological_or_Device_or_Medical_Supply_4         | null                 \n",
      " Product_Category_or_Therapeutic_Area_4                            | null                 \n",
      " Name_of_Drug_or_Biological_or_Device_or_Medical_Supply_4          | null                 \n",
      " Associated_Drug_or_Biological_NDC_4                               | null                 \n",
      " Associated_Device_or_Medical_Supply_PDI_4                         | N/A                  \n",
      " Covered_or_Noncovered_Indicator_5                                 | null                 \n",
      " Indicate_Drug_or_Biological_or_Device_or_Medical_Supply_5         | null                 \n",
      " Product_Category_or_Therapeutic_Area_5                            | null                 \n",
      " Name_of_Drug_or_Biological_or_Device_or_Medical_Supply_5          | null                 \n",
      " Associated_Drug_or_Biological_NDC_5                               | null                 \n",
      " Associated_Device_or_Medical_Supply_PDI_5                         | N/A                  \n",
      " Program_Year                                                      | 2020                 \n",
      " Payment_Publication_Date                                          | 01/20/2023           \n",
      "only showing top 1 row\n",
      "\n"
     ]
    }
   ],
   "source": [
    "payment_pd.show(n=1,vertical = True)"
   ]
  },
  {
   "cell_type": "code",
   "execution_count": 26,
   "id": "b732d77b",
   "metadata": {},
   "outputs": [
    {
     "name": "stdout",
     "output_type": "stream",
     "text": [
      "+----------------------------+---------------------------+--------------+---------------+---------------------------------+\n",
      "|Covered_Recipient_First_Name|Covered_Recipient_Last_Name|Recipient_City|Recipient_State|Total_Amount_of_Payment_USDollars|\n",
      "+----------------------------+---------------------------+--------------+---------------+---------------------------------+\n",
      "|                       Vikas|                      Pilly| Williamsville|             NY|                         14875.00|\n",
      "+----------------------------+---------------------------+--------------+---------------+---------------------------------+\n",
      "only showing top 1 row\n",
      "\n"
     ]
    }
   ],
   "source": [
    "payment_fpd = payment_pd.select('Covered_Recipient_First_Name',\n",
    "                                'Covered_Recipient_Last_Name',\n",
    "                                'Recipient_City',\n",
    "                                'Recipient_State',\n",
    "                                'Total_Amount_of_Payment_USDollars')\n",
    "\n",
    "#print((payment_fpd.count(), len(payment_fpd.columns)))\n",
    "#payment_fpd.printSchema()\n",
    "payment_fpd.show(1)"
   ]
  },
  {
   "cell_type": "code",
   "execution_count": 27,
   "id": "8935fd44",
   "metadata": {},
   "outputs": [
    {
     "name": "stdout",
     "output_type": "stream",
     "text": [
      "Count of non nulls for each column:\n",
      "-RECORD 0------------------------------------\n",
      " Covered_Recipient_First_Name      | 5790756 \n",
      " Covered_Recipient_Last_Name       | 5790756 \n",
      " Recipient_City                    | 5823162 \n",
      " Recipient_State                   | 5822918 \n",
      " Total_Amount_of_Payment_USDollars | 5823162 \n",
      "\n",
      "\n",
      "Count of nulls in dataframe for each column:\n",
      "-RECORD 0----------------------------------\n",
      " Covered_Recipient_First_Name      | 32406 \n",
      " Covered_Recipient_Last_Name       | 32406 \n",
      " Recipient_City                    | 0     \n",
      " Recipient_State                   | 244   \n",
      " Total_Amount_of_Payment_USDollars | 0     \n",
      "\n"
     ]
    }
   ],
   "source": [
    "print(\"Count of non nulls for each column:\")\n",
    "payment_fpd.select([count(when(col(c).isNotNull() , c)).alias(c) for c in payment_fpd.columns]).show(vertical = True)\n",
    "\n",
    "print(\"\\nCount of nulls in dataframe for each column:\")\n",
    "payment_fpd.select([count(when(col(c).isNull(),c)).alias(c) for c in payment_fpd.columns]).show(vertical = True)"
   ]
  },
  {
   "cell_type": "code",
   "execution_count": 28,
   "id": "68088df4",
   "metadata": {},
   "outputs": [
    {
     "name": "stdout",
     "output_type": "stream",
     "text": [
      "root\n",
      " |-- Covered_Recipient_First_Name: string (nullable = true)\n",
      " |-- Covered_Recipient_Last_Name: string (nullable = true)\n",
      " |-- Recipient_City: string (nullable = true)\n",
      " |-- Recipient_State: string (nullable = true)\n",
      " |-- Total_Amount_of_Payment_USDollars: string (nullable = true)\n",
      "\n",
      "root\n",
      " |-- Covered_Recipient_First_Name: string (nullable = true)\n",
      " |-- Covered_Recipient_Last_Name: string (nullable = true)\n",
      " |-- Recipient_City: string (nullable = true)\n",
      " |-- Recipient_State: string (nullable = true)\n",
      " |-- Total_Amount_of_Payment_USDollars: double (nullable = true)\n",
      "\n"
     ]
    }
   ],
   "source": [
    "payment_fpd.printSchema()\n",
    "\n",
    "cols = ['Total_Amount_of_Payment_USDollars']\n",
    "for col_name in cols:\n",
    "    payment_fpd_1 = payment_fpd.withColumn(col_name, col(col_name).cast('double'))\n",
    "\n",
    "payment_fpd_1.printSchema()"
   ]
  },
  {
   "cell_type": "code",
   "execution_count": 29,
   "id": "2fe46800",
   "metadata": {},
   "outputs": [
    {
     "name": "stdout",
     "output_type": "stream",
     "text": [
      "(800852, 5)\n",
      "+----------+-----------+----------+-----+------------------+\n",
      "|first_name|  last_name|      city|state| Total_Payment_Sum|\n",
      "+----------+-----------+----------+-----+------------------+\n",
      "|      OMID|      SHAYE|WEST HILLS|   CA|216.48000000000002|\n",
      "|   KENNETH| BLANKSTEIN|FLEMINGTON|   NJ| 570.2599999999999|\n",
      "| SWEE JIAN|      NGEOW|FLEMINGTON|   NJ|            517.78|\n",
      "|      MARK|STONECYPHER| MARYVILLE|   TN|            3465.0|\n",
      "|   michael|     Verber| Camp Hill|   PA|            162.01|\n",
      "+----------+-----------+----------+-----+------------------+\n",
      "only showing top 5 rows\n",
      "\n"
     ]
    }
   ],
   "source": [
    "payment_fpd1 = payment_fpd_1.groupby(['Covered_Recipient_First_Name',\n",
    "                                      'Covered_Recipient_Last_Name',\n",
    "                                      'Recipient_City',\n",
    "                                      'Recipient_State']) \\\n",
    "               .agg(F.sum(\"Total_Amount_of_Payment_USDollars\").alias('Total_Amount_of_Payment_USDollars_sum'))\n",
    "\n",
    "rename_col = ['first_name',\n",
    "              'last_name',\n",
    "              'city',\n",
    "              'state',\n",
    "              'Total_Payment_Sum']\n",
    "\n",
    "payment_fpd1 = payment_fpd1.toDF(*rename_col)\n",
    "\n",
    "print((payment_fpd1.count(), len(payment_fpd1.columns)))\n",
    "payment_fpd1.show(5)"
   ]
  },
  {
   "cell_type": "code",
   "execution_count": 30,
   "id": "d6c1ec2c",
   "metadata": {},
   "outputs": [
    {
     "name": "stdout",
     "output_type": "stream",
     "text": [
      "+----------+---------+--------------+------+-----------------+\n",
      "|first_name|last_name|          city| state|Total_Payment_Sum|\n",
      "+----------+---------+--------------+------+-----------------+\n",
      "|     James|    Smith|\"Raleigh\",\"NC\"| 27615|             null|\n",
      "|    JUSTIN|      KOH|   SUITE 4B\"\"\"|BOSTON|             null|\n",
      "+----------+---------+--------------+------+-----------------+\n",
      "only showing top 2 rows\n",
      "\n"
     ]
    }
   ],
   "source": [
    "payment_fpd2 = payment_fpd1.sort(col('Total_Payment_Sum').asc())\n",
    "payment_fpd2.show(2)"
   ]
  },
  {
   "cell_type": "code",
   "execution_count": 31,
   "id": "0703c9dc",
   "metadata": {},
   "outputs": [],
   "source": [
    "#print((payment_fpd2.count(), len(payment_fpd2.columns)))\n",
    "#payment_fpd2.show(5)"
   ]
  },
  {
   "cell_type": "code",
   "execution_count": 32,
   "id": "cffff85f",
   "metadata": {},
   "outputs": [],
   "source": [
    "# payment_fpd2.tail(5)"
   ]
  },
  {
   "cell_type": "code",
   "execution_count": 33,
   "id": "467bd0fe",
   "metadata": {},
   "outputs": [
    {
     "name": "stdout",
     "output_type": "stream",
     "text": [
      "+----------+---------+--------------+-------------------+-----------------+\n",
      "|first_name|last_name|          city|              state|Total_Payment_Sum|\n",
      "+----------+---------+--------------+-------------------+-----------------+\n",
      "|   KRISTEN|  PLOETZE|          WUSM| CAMPUS BOX 8233\"\"\"|             null|\n",
      "|     JAMES|    SMITH|\"RALEIGH\",\"NC\"|              27615|             null|\n",
      "+----------+---------+--------------+-------------------+-----------------+\n",
      "only showing top 2 rows\n",
      "\n"
     ]
    }
   ],
   "source": [
    "for col in payment_fpd2.columns:\n",
    "    if (str(payment_fpd2.schema[col].dataType) == \"StringType()\"):\n",
    "        #print( col + \" is 'string' column\")\n",
    "        payment_fpd2 = payment_fpd2.withColumn(col, F.upper(F.col(col)))\n",
    "    #else:\n",
    "        #print( col + \" is not - 'string' column\")\n",
    "\n",
    "payment_fpd2.show(2)"
   ]
  },
  {
   "cell_type": "code",
   "execution_count": 34,
   "id": "e6f96277",
   "metadata": {},
   "outputs": [],
   "source": [
    "#print(payment_fpd2.printSchema())\n",
    "#print(payment_fpd2.describe().show())\n",
    "#payment_fpd2.tail(5)"
   ]
  },
  {
   "cell_type": "code",
   "execution_count": 35,
   "id": "e3f04b1d",
   "metadata": {},
   "outputs": [
    {
     "name": "stdout",
     "output_type": "stream",
     "text": [
      "+-----------+-----------------+-----------------+----------------+-----------------+------------------+-----------------+----------------------+-----------------------+----------------------+---------+-----+------------------+---------+----------+-----------------+\n",
      "|Prscrbr_NPI| Tot_Drug_Cst_sum|Tot_Drug_Cst_mean|Tot_Drug_Cst_max|GE65_Tot_Clms_sum|GE65_Tot_Clms_mean|GE65_Tot_Clms_max|GE65_Tot_Day_Suply_sum|GE65_Tot_Day_Suply_mean|GE65_Tot_Day_Suply_max|     city|state|Prscrbr_State_FIPS|last_name|first_name|       Speciality|\n",
      "+-----------+-----------------+-----------------+----------------+-----------------+------------------+-----------------+----------------------+-----------------------+----------------------+---------+-----+------------------+---------+----------+-----------------+\n",
      "| 1992999551|333988.2699999997|3180.840666666664|        70072.57|           2430.0| 37.38461538461539|            274.0|              163508.0|      2515.507692307692|               21580.0|Escondido|   CA|                06|    Molai|    Indira|Internal Medicine|\n",
      "+-----------+-----------------+-----------------+----------------+-----------------+------------------+-----------------+----------------------+-----------------------+----------------------+---------+-----+------------------+---------+----------+-----------------+\n",
      "\n"
     ]
    }
   ],
   "source": [
    "partD_allpd.where((partD_allpd.first_name == 'Indira') & \n",
    "                  (partD_allpd.last_name == 'Molai')).show()"
   ]
  },
  {
   "cell_type": "code",
   "execution_count": 36,
   "id": "3f306d74",
   "metadata": {},
   "outputs": [
    {
     "name": "stdout",
     "output_type": "stream",
     "text": [
      "+----------------------------+---------------------------+--------------+---------------+---------------------------------+\n",
      "|Covered_Recipient_First_Name|Covered_Recipient_Last_Name|Recipient_City|Recipient_State|Total_Amount_of_Payment_USDollars|\n",
      "+----------------------------+---------------------------+--------------+---------------+---------------------------------+\n",
      "|                      Indira|                      Molai|     Escondido|             CA|                            18.35|\n",
      "+----------------------------+---------------------------+--------------+---------------+---------------------------------+\n",
      "\n"
     ]
    }
   ],
   "source": [
    "# Row(first_name='AARON', last_name='BEREZ', city='MOUNTAIN VIEW', state='CA', Total_Payment_Sum=20008737.76)\n",
    "\n",
    "payment_fpd.where((payment_fpd.Covered_Recipient_First_Name == 'Indira') & \n",
    "                  (payment_fpd.Covered_Recipient_Last_Name == 'Molai')).show()\n",
    "\n",
    "#& (payment_fpd2.city == 'Oroville')\n",
    "# npifraud_pd0.where(F.col('NPI') == 0).count())"
   ]
  },
  {
   "cell_type": "code",
   "execution_count": 37,
   "id": "0f1d8cfc",
   "metadata": {},
   "outputs": [
    {
     "name": "stdout",
     "output_type": "stream",
     "text": [
      "+----------+---------+---------+-----+-----------------+\n",
      "|first_name|last_name|     city|state|Total_Payment_Sum|\n",
      "+----------+---------+---------+-----+-----------------+\n",
      "|    Indira|    Molai|Escondido|   CA|            18.35|\n",
      "+----------+---------+---------+-----+-----------------+\n",
      "\n"
     ]
    }
   ],
   "source": [
    "payment_fpd1.where((payment_fpd1.first_name == \"Indira\") & \n",
    "                   (payment_fpd1.last_name == \"Molai\")).show()"
   ]
  },
  {
   "cell_type": "code",
   "execution_count": 38,
   "id": "5c8f6c56",
   "metadata": {},
   "outputs": [
    {
     "name": "stdout",
     "output_type": "stream",
     "text": [
      "+----------+---------+----+-----+-----------------+\n",
      "|first_name|last_name|city|state|Total_Payment_Sum|\n",
      "+----------+---------+----+-----+-----------------+\n",
      "+----------+---------+----+-----+-----------------+\n",
      "\n"
     ]
    }
   ],
   "source": [
    "payment_fpd2.where((payment_fpd2.first_name == \"Indira\") & \n",
    "                   (payment_fpd2.last_name == \"Molai\")).show()"
   ]
  },
  {
   "cell_type": "code",
   "execution_count": 39,
   "id": "52c8d5be",
   "metadata": {},
   "outputs": [
    {
     "name": "stdout",
     "output_type": "stream",
     "text": [
      "+----------+---------+---------+-----+-----------------+\n",
      "|first_name|last_name|     city|state|Total_Payment_Sum|\n",
      "+----------+---------+---------+-----+-----------------+\n",
      "|    INDIRA|    MOLAI|ESCONDIDO|   CA|            18.35|\n",
      "|    INDIRA|    MOLAI|ESCONDIDO|   CA|             79.5|\n",
      "+----------+---------+---------+-----+-----------------+\n",
      "\n"
     ]
    }
   ],
   "source": [
    "payment_fpd2.where((payment_fpd2.first_name == \"INDIRA\") & \n",
    "                   (payment_fpd2.last_name == \"MOLAI\")).show()"
   ]
  },
  {
   "cell_type": "code",
   "execution_count": 40,
   "id": "4e156f61",
   "metadata": {},
   "outputs": [
    {
     "name": "stdout",
     "output_type": "stream",
     "text": [
      "+-------+----------+----------------+-----------------+-------------------+--------------------+\n",
      "|summary|first_name|       last_name|             city|              state|   Total_Payment_Sum|\n",
      "+-------+----------+----------------+-----------------+-------------------+--------------------+\n",
      "|  count|    799525|          799525|           800852|             800782|              800849|\n",
      "|   mean|       NaN|             NaN|           6295.0|            27615.0|   2617.548061382439|\n",
      "| stddev|       NaN|             NaN|8036.975674966299|               null|  201242.05451209444|\n",
      "|    min|  .JEFFREY|A VENKATARAMANAN|      SUITE 4B\"\"\"| CAMPUS BOX 8233\"\"\"|                0.01|\n",
      "|    max|     zaven|         youssef|       youngstown|                 WY|1.4961652114000002E8|\n",
      "+-------+----------+----------------+-----------------+-------------------+--------------------+\n",
      "\n",
      "None\n"
     ]
    }
   ],
   "source": [
    "print(payment_fpd1.describe().show())"
   ]
  },
  {
   "cell_type": "code",
   "execution_count": 41,
   "id": "0b6b428e",
   "metadata": {},
   "outputs": [
    {
     "name": "stdout",
     "output_type": "stream",
     "text": [
      "+-----------+----------------------+---------------------+--------------------+----------------------+----------------------------+---------------------+----------------------------+-----------------------------+---------------------------+-----------------------------+-----------------------------------------------+-----------------------------------------------+--------------+---------------+------------------+-----------------+------------------+---------------------+--------------------------------+--------------------------------+--------------------------------+--------------------------------+--------------------------------+--------------------------------+-----------------------------+-----------------------------+-----------------------------+-----------------------------+-----------------------------+-----------------------------+-------------------------------------+-------------------------------------+-------------------------------------+-------------------------------------+-------------------------------------+---------------------------------------------------------+-----------------------------------------------------------+-------------------------------------------------------------+--------------------------------------------------------------+----------------------------------------------------------------+---------------------------------+---------------+-------------------------------------------+------------------------------------+--------------------------------------+--------------+---------------+-----------------+-----------------------------+---------------------------------------+-----------------------------------------------------------------+-----------------+----------------------------------------------+----------------------+------------------------------+---------+------------------------------+-------------------------+---------------------------------+---------------------------------------------------------+--------------------------------------+--------------------------------------------------------+-----------------------------------+-----------------------------------------+---------------------------------+---------------------------------------------------------+--------------------------------------+--------------------------------------------------------+-----------------------------------+-----------------------------------------+---------------------------------+---------------------------------------------------------+--------------------------------------+--------------------------------------------------------+-----------------------------------+-----------------------------------------+---------------------------------+---------------------------------------------------------+--------------------------------------+--------------------------------------------------------+-----------------------------------+-----------------------------------------+---------------------------------+---------------------------------------------------------+--------------------------------------+--------------------------------------------------------+-----------------------------------+-----------------------------------------+------------+------------------------+\n",
      "|Change_Type|Covered_Recipient_Type|Teaching_Hospital_CCN|Teaching_Hospital_ID|Teaching_Hospital_Name|Covered_Recipient_Profile_ID|Covered_Recipient_NPI|Covered_Recipient_First_Name|Covered_Recipient_Middle_Name|Covered_Recipient_Last_Name|Covered_Recipient_Name_Suffix|Recipient_Primary_Business_Street_Address_Line1|Recipient_Primary_Business_Street_Address_Line2|Recipient_City|Recipient_State|Recipient_Zip_Code|Recipient_Country|Recipient_Province|Recipient_Postal_Code|Covered_Recipient_Primary_Type_1|Covered_Recipient_Primary_Type_2|Covered_Recipient_Primary_Type_3|Covered_Recipient_Primary_Type_4|Covered_Recipient_Primary_Type_5|Covered_Recipient_Primary_Type_6|Covered_Recipient_Specialty_1|Covered_Recipient_Specialty_2|Covered_Recipient_Specialty_3|Covered_Recipient_Specialty_4|Covered_Recipient_Specialty_5|Covered_Recipient_Specialty_6|Covered_Recipient_License_State_code1|Covered_Recipient_License_State_code2|Covered_Recipient_License_State_code3|Covered_Recipient_License_State_code4|Covered_Recipient_License_State_code5|Submitting_Applicable_Manufacturer_or_Applicable_GPO_Name|Applicable_Manufacturer_or_Applicable_GPO_Making_Payment_ID|Applicable_Manufacturer_or_Applicable_GPO_Making_Payment_Name|Applicable_Manufacturer_or_Applicable_GPO_Making_Payment_State|Applicable_Manufacturer_or_Applicable_GPO_Making_Payment_Country|Total_Amount_of_Payment_USDollars|Date_of_Payment|Number_of_Payments_Included_in_Total_Amount|Form_of_Payment_or_Transfer_of_Value|Nature_of_Payment_or_Transfer_of_Value|City_of_Travel|State_of_Travel|Country_of_Travel|Physician_Ownership_Indicator|Third_Party_Payment_Recipient_Indicator|Name_of_Third_Party_Entity_Receiving_Payment_or_Transfer_of_Value|Charity_Indicator|Third_Party_Equals_Covered_Recipient_Indicator|Contextual_Information|Delay_in_Publication_Indicator|Record_ID|Dispute_Status_for_Publication|Related_Product_Indicator|Covered_or_Noncovered_Indicator_1|Indicate_Drug_or_Biological_or_Device_or_Medical_Supply_1|Product_Category_or_Therapeutic_Area_1|Name_of_Drug_or_Biological_or_Device_or_Medical_Supply_1|Associated_Drug_or_Biological_NDC_1|Associated_Device_or_Medical_Supply_PDI_1|Covered_or_Noncovered_Indicator_2|Indicate_Drug_or_Biological_or_Device_or_Medical_Supply_2|Product_Category_or_Therapeutic_Area_2|Name_of_Drug_or_Biological_or_Device_or_Medical_Supply_2|Associated_Drug_or_Biological_NDC_2|Associated_Device_or_Medical_Supply_PDI_2|Covered_or_Noncovered_Indicator_3|Indicate_Drug_or_Biological_or_Device_or_Medical_Supply_3|Product_Category_or_Therapeutic_Area_3|Name_of_Drug_or_Biological_or_Device_or_Medical_Supply_3|Associated_Drug_or_Biological_NDC_3|Associated_Device_or_Medical_Supply_PDI_3|Covered_or_Noncovered_Indicator_4|Indicate_Drug_or_Biological_or_Device_or_Medical_Supply_4|Product_Category_or_Therapeutic_Area_4|Name_of_Drug_or_Biological_or_Device_or_Medical_Supply_4|Associated_Drug_or_Biological_NDC_4|Associated_Device_or_Medical_Supply_PDI_4|Covered_or_Noncovered_Indicator_5|Indicate_Drug_or_Biological_or_Device_or_Medical_Supply_5|Product_Category_or_Therapeutic_Area_5|Name_of_Drug_or_Biological_or_Device_or_Medical_Supply_5|Associated_Drug_or_Biological_NDC_5|Associated_Device_or_Medical_Supply_PDI_5|Program_Year|Payment_Publication_Date|\n",
      "+-----------+----------------------+---------------------+--------------------+----------------------+----------------------------+---------------------+----------------------------+-----------------------------+---------------------------+-----------------------------+-----------------------------------------------+-----------------------------------------------+--------------+---------------+------------------+-----------------+------------------+---------------------+--------------------------------+--------------------------------+--------------------------------+--------------------------------+--------------------------------+--------------------------------+-----------------------------+-----------------------------+-----------------------------+-----------------------------+-----------------------------+-----------------------------+-------------------------------------+-------------------------------------+-------------------------------------+-------------------------------------+-------------------------------------+---------------------------------------------------------+-----------------------------------------------------------+-------------------------------------------------------------+--------------------------------------------------------------+----------------------------------------------------------------+---------------------------------+---------------+-------------------------------------------+------------------------------------+--------------------------------------+--------------+---------------+-----------------+-----------------------------+---------------------------------------+-----------------------------------------------------------------+-----------------+----------------------------------------------+----------------------+------------------------------+---------+------------------------------+-------------------------+---------------------------------+---------------------------------------------------------+--------------------------------------+--------------------------------------------------------+-----------------------------------+-----------------------------------------+---------------------------------+---------------------------------------------------------+--------------------------------------+--------------------------------------------------------+-----------------------------------+-----------------------------------------+---------------------------------+---------------------------------------------------------+--------------------------------------+--------------------------------------------------------+-----------------------------------+-----------------------------------------+---------------------------------+---------------------------------------------------------+--------------------------------------+--------------------------------------------------------+-----------------------------------+-----------------------------------------+---------------------------------+---------------------------------------------------------+--------------------------------------+--------------------------------------------------------+-----------------------------------+-----------------------------------------+------------+------------------------+\n",
      "|  UNCHANGED|  Covered Recipient...|                 null|                null|                  null|                      272067|           1992999551|                      Indira|                    Elizabeth|                      Molai|                         null|                                625 E Grand Ave|                                             --|     Escondido|             CA|        92025-4402|    United States|              null|                 null|                  Medical Doctor|                            null|                            null|                            null|                            null|                            null|         Allopathic & Oste...|                         null|                         null|                         null|                         null|                         null|                                   CA|                                 null|                                 null|                                 null|                                 null|                                     AstraZeneca Pharm...|                                               100000000146|                                         AstraZeneca Pharm...|                                                            DE|                                                   United States|                            18.35|     11/03/2020|                                          1|                In-kind items and...|                     Food and Beverage|          null|           null|             null|                           No|                   No Third Party Pa...|                                                             null|               No|                                          null|    Informational Meal|                            No|736404705|                            No|                      Yes|                          Covered|                                                     Drug|                  Cardiovascular an...|                                                 FARXIGA|                       0310-6205-30|                                      N/A|                             null|                                                     null|                                  null|                                                    null|                               null|                                      N/A|                             null|                                                     null|                                  null|                                                    null|                               null|                                      N/A|                             null|                                                     null|                                  null|                                                    null|                               null|                                      N/A|                             null|                                                     null|                                  null|                                                    null|                               null|                                      N/A|        2020|              01/20/2023|\n",
      "+-----------+----------------------+---------------------+--------------------+----------------------+----------------------------+---------------------+----------------------------+-----------------------------+---------------------------+-----------------------------+-----------------------------------------------+-----------------------------------------------+--------------+---------------+------------------+-----------------+------------------+---------------------+--------------------------------+--------------------------------+--------------------------------+--------------------------------+--------------------------------+--------------------------------+-----------------------------+-----------------------------+-----------------------------+-----------------------------+-----------------------------+-----------------------------+-------------------------------------+-------------------------------------+-------------------------------------+-------------------------------------+-------------------------------------+---------------------------------------------------------+-----------------------------------------------------------+-------------------------------------------------------------+--------------------------------------------------------------+----------------------------------------------------------------+---------------------------------+---------------+-------------------------------------------+------------------------------------+--------------------------------------+--------------+---------------+-----------------+-----------------------------+---------------------------------------+-----------------------------------------------------------------+-----------------+----------------------------------------------+----------------------+------------------------------+---------+------------------------------+-------------------------+---------------------------------+---------------------------------------------------------+--------------------------------------+--------------------------------------------------------+-----------------------------------+-----------------------------------------+---------------------------------+---------------------------------------------------------+--------------------------------------+--------------------------------------------------------+-----------------------------------+-----------------------------------------+---------------------------------+---------------------------------------------------------+--------------------------------------+--------------------------------------------------------+-----------------------------------+-----------------------------------------+---------------------------------+---------------------------------------------------------+--------------------------------------+--------------------------------------------------------+-----------------------------------+-----------------------------------------+---------------------------------+---------------------------------------------------------+--------------------------------------+--------------------------------------------------------+-----------------------------------+-----------------------------------------+------------+------------------------+\n",
      "\n"
     ]
    }
   ],
   "source": [
    "payment_pd.where((payment_pd.Covered_Recipient_Last_Name == 'Molai') & \n",
    "                 (payment_pd.Covered_Recipient_First_Name == 'Indira')).show()"
   ]
  },
  {
   "cell_type": "code",
   "execution_count": 42,
   "id": "7cb4f225",
   "metadata": {},
   "outputs": [],
   "source": [
    "col_list = ['first_name','last_name','city','state']\n",
    "\n",
    "for col in col_list:\n",
    "    if (str(partD_allpd.schema[col].dataType) == \"StringType()\"):\n",
    "        #print( col + \" is 'string' column\")\n",
    "        partD_allpd = partD_allpd.withColumn(col, F.upper(F.col(col)))\n",
    "    #else:\n",
    "        #print( col + \" is not - 'string' column\")\n",
    "\n",
    "#partD_allpd.show(5)"
   ]
  },
  {
   "cell_type": "code",
   "execution_count": 43,
   "id": "295b03a1",
   "metadata": {},
   "outputs": [
    {
     "name": "stdout",
     "output_type": "stream",
     "text": [
      "root\n",
      " |-- Prscrbr_NPI: string (nullable = true)\n",
      " |-- Tot_Drug_Cst_sum: double (nullable = true)\n",
      " |-- Tot_Drug_Cst_mean: double (nullable = true)\n",
      " |-- Tot_Drug_Cst_max: double (nullable = true)\n",
      " |-- GE65_Tot_Clms_sum: double (nullable = true)\n",
      " |-- GE65_Tot_Clms_mean: double (nullable = true)\n",
      " |-- GE65_Tot_Clms_max: double (nullable = true)\n",
      " |-- GE65_Tot_Day_Suply_sum: double (nullable = true)\n",
      " |-- GE65_Tot_Day_Suply_mean: double (nullable = true)\n",
      " |-- GE65_Tot_Day_Suply_max: double (nullable = true)\n",
      " |-- city: string (nullable = true)\n",
      " |-- state: string (nullable = true)\n",
      " |-- Prscrbr_State_FIPS: string (nullable = true)\n",
      " |-- last_name: string (nullable = true)\n",
      " |-- first_name: string (nullable = true)\n",
      " |-- Speciality: string (nullable = true)\n",
      " |-- Total_Payment_Sum: double (nullable = true)\n",
      "\n"
     ]
    }
   ],
   "source": [
    "# join the part D dataset & payment dataset\n",
    "pay_partD_fpd = partD_allpd.join(payment_fpd2, how ='left', on = ['last_name','first_name','city','state'])\n",
    "\n",
    "pay_partD_fpd = pay_partD_fpd.select('Prscrbr_NPI',\n",
    "                                     'Tot_Drug_Cst_sum',\n",
    "                                     'Tot_Drug_Cst_mean',\n",
    "                                     'Tot_Drug_Cst_max',\n",
    "                                     'GE65_Tot_Clms_sum',\n",
    "                                     'GE65_Tot_Clms_mean',\n",
    "                                     'GE65_Tot_Clms_max',\n",
    "                                     'GE65_Tot_Day_Suply_sum',\n",
    "                                     'GE65_Tot_Day_Suply_mean',\n",
    "                                     'GE65_Tot_Day_Suply_max',\n",
    "                                     'city',\n",
    "                                     'state',\n",
    "                                     'Prscrbr_State_FIPS',\n",
    "                                     'last_name',\n",
    "                                     'first_name',\n",
    "                                     'Speciality',\n",
    "                                     'Total_Payment_Sum')\n",
    "\n",
    "#print((pay_partD_fpd.count(), len(pay_partD_fpd.columns)))\n",
    "pay_partD_fpd.printSchema()\n",
    "# pay_partD_fpd.show(1)"
   ]
  },
  {
   "cell_type": "code",
   "execution_count": 44,
   "id": "5a47771b",
   "metadata": {},
   "outputs": [],
   "source": [
    "#print(pay_partD_fpd.describe().show())"
   ]
  },
  {
   "cell_type": "code",
   "execution_count": 45,
   "id": "d7cbef40",
   "metadata": {},
   "outputs": [],
   "source": [
    "# print(\"Count of non nulls for each column:\")\n",
    "# pay_partD_fpd.select([count(c).alias(c) for c in pay_partD_fpd.columns]).show(vertical = True)\n",
    "\n",
    "# print(\"\\nCount of nulls in dataframe for each column:\")\n",
    "# pay_partD_fpd.select([count(when(F.col(c).isNull(),c)).alias(c) for c in pay_partD_fpd.columns]).show(vertical = True)"
   ]
  },
  {
   "cell_type": "markdown",
   "id": "f191c7fd",
   "metadata": {},
   "source": [
    "# c) Data - Loading LEIE Data"
   ]
  },
  {
   "cell_type": "code",
   "execution_count": 46,
   "id": "8ba4511c",
   "metadata": {},
   "outputs": [
    {
     "name": "stdout",
     "output_type": "stream",
     "text": [
      "The time of execution of above program is : 256.50596618652344 ms\n"
     ]
    }
   ],
   "source": [
    "# c) Loading LEIE Data\n",
    "\n",
    "# record start time\n",
    "start = time.time()\n",
    "\n",
    "IELE_pd = spark.read.option(\"header\",True).csv(\"LEIE.csv\")\n",
    "\n",
    "# record end time\n",
    "end = time.time()\n",
    "\n",
    "# print the difference between start and end time in milli. secs\n",
    "print(\"The time of execution of above program is :\",(end-start) * 10**3, \"ms\")"
   ]
  },
  {
   "cell_type": "code",
   "execution_count": 47,
   "id": "98ef4dbc",
   "metadata": {},
   "outputs": [
    {
     "name": "stdout",
     "output_type": "stream",
     "text": [
      "root\n",
      " |-- LASTNAME: string (nullable = true)\n",
      " |-- FIRSTNAME: string (nullable = true)\n",
      " |-- MIDNAME: string (nullable = true)\n",
      " |-- BUSNAME: string (nullable = true)\n",
      " |-- GENERAL: string (nullable = true)\n",
      " |-- SPECIALTY: string (nullable = true)\n",
      " |-- UPIN: string (nullable = true)\n",
      " |-- NPI: string (nullable = true)\n",
      " |-- DOB: string (nullable = true)\n",
      " |-- ADDRESS: string (nullable = true)\n",
      " |-- CITY: string (nullable = true)\n",
      " |-- STATE: string (nullable = true)\n",
      " |-- ZIP: string (nullable = true)\n",
      " |-- EXCLTYPE: string (nullable = true)\n",
      " |-- EXCLDATE: string (nullable = true)\n",
      " |-- REINDATE: string (nullable = true)\n",
      " |-- WAIVERDATE: string (nullable = true)\n",
      " |-- WVRSTATE: string (nullable = true)\n",
      "\n",
      "(77164, 18)\n"
     ]
    },
    {
     "data": {
      "text/plain": [
       "[Row(LASTNAME=None, FIRSTNAME=None, MIDNAME=' ', BUSNAME='#1 MARKETING SERVICE, INC', GENERAL='OTHER BUSINESS', SPECIALTY='SOBER HOME', UPIN=None, NPI='0000000000', DOB=None, ADDRESS='239 BRIGHTON BEACH AVENUE', CITY='BROOKLYN', STATE='NY', ZIP='11235', EXCLTYPE='1128a1', EXCLDATE='20200319', REINDATE='00000000', WAIVERDATE='00000000', WVRSTATE=None),\n",
       " Row(LASTNAME=None, FIRSTNAME=None, MIDNAME=' ', BUSNAME='101 FIRST CARE PHARMACY INC', GENERAL='OTHER BUSINESS', SPECIALTY='PHARMACY', UPIN=None, NPI='1972902351', DOB=None, ADDRESS='C/O 609 W 191ST STREET, APT D', CITY='NEW YORK', STATE='NY', ZIP='10040', EXCLTYPE='1128b8', EXCLDATE='20220320', REINDATE='00000000', WAIVERDATE='00000000', WVRSTATE=None)]"
      ]
     },
     "execution_count": 47,
     "metadata": {},
     "output_type": "execute_result"
    }
   ],
   "source": [
    "IELE_pd.printSchema()\n",
    "print((IELE_pd.count(), len(IELE_pd.columns)))\n",
    "IELE_pd.head(2)"
   ]
  },
  {
   "cell_type": "code",
   "execution_count": 48,
   "id": "9e0bccef",
   "metadata": {},
   "outputs": [
    {
     "name": "stdout",
     "output_type": "stream",
     "text": [
      "(77164, 2)\n"
     ]
    },
    {
     "data": {
      "text/plain": [
       "[Row(NPI='0000000000', EXCLTYPE='1128a1'),\n",
       " Row(NPI='1972902351', EXCLTYPE='1128b8')]"
      ]
     },
     "execution_count": 48,
     "metadata": {},
     "output_type": "execute_result"
    }
   ],
   "source": [
    "npifraud_pd0 = IELE_pd.select('NPI','EXCLTYPE')\n",
    "print((npifraud_pd0.count(), len(npifraud_pd0.columns)))\n",
    "npifraud_pd0.head(2)"
   ]
  },
  {
   "cell_type": "code",
   "execution_count": 49,
   "id": "aa0d8c56",
   "metadata": {},
   "outputs": [
    {
     "name": "stdout",
     "output_type": "stream",
     "text": [
      "No of rows with 0 value in NPI: 70574\n",
      "(6590, 2)\n"
     ]
    },
    {
     "data": {
      "text/plain": [
       "[Row(NPI='1972902351', EXCLTYPE='1128b8'),\n",
       " Row(NPI='1922348218', EXCLTYPE='1128a1')]"
      ]
     },
     "execution_count": 49,
     "metadata": {},
     "output_type": "execute_result"
    }
   ],
   "source": [
    "# count of NPI with zero value\n",
    "print(\"No of rows with 0 value in NPI:\",npifraud_pd0.where(F.col('NPI') == 0).count())\n",
    "\n",
    "npifraud_pd1 = npifraud_pd0.where(F.col('NPI') != 0)\n",
    "print((npifraud_pd1.count(), len(npifraud_pd1.columns)))\n",
    "npifraud_pd1.head(2)"
   ]
  },
  {
   "cell_type": "code",
   "execution_count": 50,
   "id": "25dcd854",
   "metadata": {},
   "outputs": [
    {
     "name": "stdout",
     "output_type": "stream",
     "text": [
      "(6590, 2)\n",
      "+-----------+--------+\n",
      "|Prscrbr_NPI|is_fraud|\n",
      "+-----------+--------+\n",
      "| 1972902351|  1128b8|\n",
      "| 1922348218|  1128a1|\n",
      "+-----------+--------+\n",
      "only showing top 2 rows\n",
      "\n"
     ]
    }
   ],
   "source": [
    "rename_col = ['Prscrbr_NPI','is_fraud']\n",
    "\n",
    "npi_fraud_pd = npifraud_pd1.toDF(*rename_col)\n",
    "\n",
    "print((npi_fraud_pd.count(), len(npi_fraud_pd.columns)))\n",
    "npi_fraud_pd.show(2)"
   ]
  },
  {
   "cell_type": "code",
   "execution_count": 51,
   "id": "ebb6d2b1",
   "metadata": {},
   "outputs": [
    {
     "name": "stdout",
     "output_type": "stream",
     "text": [
      "(6590, 2)\n",
      "+-----------+--------+\n",
      "|Prscrbr_NPI|is_fraud|\n",
      "+-----------+--------+\n",
      "| 1972902351|       1|\n",
      "| 1922348218|       1|\n",
      "+-----------+--------+\n",
      "only showing top 2 rows\n",
      "\n"
     ]
    }
   ],
   "source": [
    "# update all is_fraud values to 1\n",
    "npi_fraud_pd = npi_fraud_pd.withColumn(\"is_fraud\", lit(1))\n",
    "print((npi_fraud_pd.count(), len(npi_fraud_pd.columns)))\n",
    "npi_fraud_pd.show(2)"
   ]
  },
  {
   "cell_type": "markdown",
   "id": "5907febe",
   "metadata": {},
   "source": [
    "# Features Engineering"
   ]
  },
  {
   "cell_type": "code",
   "execution_count": 52,
   "id": "b37d3c6f",
   "metadata": {},
   "outputs": [
    {
     "name": "stdout",
     "output_type": "stream",
     "text": [
      "(1121504, 18)\n",
      "root\n",
      " |-- Prscrbr_NPI: string (nullable = true)\n",
      " |-- Tot_Drug_Cst_sum: double (nullable = true)\n",
      " |-- Tot_Drug_Cst_mean: double (nullable = true)\n",
      " |-- Tot_Drug_Cst_max: double (nullable = true)\n",
      " |-- GE65_Tot_Clms_sum: double (nullable = true)\n",
      " |-- GE65_Tot_Clms_mean: double (nullable = true)\n",
      " |-- GE65_Tot_Clms_max: double (nullable = true)\n",
      " |-- GE65_Tot_Day_Suply_sum: double (nullable = true)\n",
      " |-- GE65_Tot_Day_Suply_mean: double (nullable = true)\n",
      " |-- GE65_Tot_Day_Suply_max: double (nullable = true)\n",
      " |-- city: string (nullable = true)\n",
      " |-- state: string (nullable = true)\n",
      " |-- Prscrbr_State_FIPS: string (nullable = true)\n",
      " |-- last_name: string (nullable = true)\n",
      " |-- first_name: string (nullable = true)\n",
      " |-- Speciality: string (nullable = true)\n",
      " |-- Total_Payment_Sum: double (nullable = true)\n",
      " |-- is_fraud: integer (nullable = true)\n",
      "\n",
      "+-----------+------------------+------------------+----------------+-----------------+------------------+-----------------+----------------------+-----------------------+----------------------+--------+-----+------------------+---------+----------+----------+-----------------+--------+\n",
      "|Prscrbr_NPI|  Tot_Drug_Cst_sum| Tot_Drug_Cst_mean|Tot_Drug_Cst_max|GE65_Tot_Clms_sum|GE65_Tot_Clms_mean|GE65_Tot_Clms_max|GE65_Tot_Day_Suply_sum|GE65_Tot_Day_Suply_mean|GE65_Tot_Day_Suply_max|    city|state|Prscrbr_State_FIPS|last_name|first_name|Speciality|Total_Payment_Sum|is_fraud|\n",
      "+-----------+------------------+------------------+----------------+-----------------+------------------+-----------------+----------------------+-----------------------+----------------------+--------+-----+------------------+---------+----------+----------+-----------------+--------+\n",
      "| 1003017443|1012.9300000000001|506.46500000000003|           714.6|             25.0|              12.5|             14.0|                1350.0|                  675.0|                1020.0|NEW YORK|   NY|                36|   BLOKAR|   MIRJANA|Psychiatry|             null|    null|\n",
      "+-----------+------------------+------------------+----------------+-----------------+------------------+-----------------+----------------------+-----------------------+----------------------+--------+-----+------------------+---------+----------+----------+-----------------+--------+\n",
      "only showing top 1 row\n",
      "\n"
     ]
    }
   ],
   "source": [
    "# Features Engineering \n",
    "Features_pd1 = pay_partD_fpd.join(npi_fraud_pd, how ='left', on = 'Prscrbr_NPI')\n",
    "\n",
    "Features_pd1 = Features_pd1.select('Prscrbr_NPI',\n",
    "                                   'Tot_Drug_Cst_sum',\n",
    "                                   'Tot_Drug_Cst_mean',\n",
    "                                   'Tot_Drug_Cst_max',\n",
    "                                   'GE65_Tot_Clms_sum',\n",
    "                                   'GE65_Tot_Clms_mean',\n",
    "                                   'GE65_Tot_Clms_max',\n",
    "                                   'GE65_Tot_Day_Suply_sum',\n",
    "                                   'GE65_Tot_Day_Suply_mean',\n",
    "                                   'GE65_Tot_Day_Suply_max',\n",
    "                                   'city',\n",
    "                                   'state',\n",
    "                                   'Prscrbr_State_FIPS',\n",
    "                                   'last_name',\n",
    "                                   'first_name',\n",
    "                                   'Speciality',\n",
    "                                   'Total_Payment_Sum',\n",
    "                                   'is_fraud')\n",
    "\n",
    "print((Features_pd1.count(), len(Features_pd1.columns)))\n",
    "Features_pd1.printSchema()\n",
    "Features_pd1.show(1)"
   ]
  },
  {
   "cell_type": "code",
   "execution_count": 53,
   "id": "ea76d603",
   "metadata": {},
   "outputs": [],
   "source": [
    "# print(\"Count of non nulls for each column:\")\n",
    "# Features_pd1.select([count(when(F.col(c).isNotNull() , c)).alias(c) for c in Features_pd1.columns]).show(vertical = True)\n",
    "\n",
    "# print(\"\\nCount of nulls in dataframe for each column:\")\n",
    "# Features_pd1.select([count(when(F.col(c).isNull(),c)).alias(c) for c in Features_pd1.columns]).show(vertical = True)\n",
    "\n",
    "#Features_pd1.describe().show()"
   ]
  },
  {
   "cell_type": "code",
   "execution_count": 54,
   "id": "c403fb5e",
   "metadata": {},
   "outputs": [
    {
     "name": "stdout",
     "output_type": "stream",
     "text": [
      "Count of non nulls for each column:\n",
      "-RECORD 0--------------------------\n",
      " Prscrbr_NPI             | 1121504 \n",
      " Tot_Drug_Cst_sum        | 1121504 \n",
      " Tot_Drug_Cst_mean       | 1121504 \n",
      " Tot_Drug_Cst_max        | 1121504 \n",
      " GE65_Tot_Clms_sum       | 1121504 \n",
      " GE65_Tot_Clms_mean      | 1121504 \n",
      " GE65_Tot_Clms_max       | 1121504 \n",
      " GE65_Tot_Day_Suply_sum  | 1121504 \n",
      " GE65_Tot_Day_Suply_mean | 1121504 \n",
      " GE65_Tot_Day_Suply_max  | 1121504 \n",
      " city                    | 1121504 \n",
      " state                   | 1121504 \n",
      " Prscrbr_State_FIPS      | 1121498 \n",
      " last_name               | 1121504 \n",
      " first_name              | 1121491 \n",
      " Speciality              | 1121503 \n",
      " Total_Payment_Sum       | 1121504 \n",
      " is_fraud                | 1121504 \n",
      "\n",
      "None\n",
      "\n",
      "Count of nulls in dataframe for each column:\n",
      "-RECORD 0----------------------\n",
      " Prscrbr_NPI             | 0   \n",
      " Tot_Drug_Cst_sum        | 0   \n",
      " Tot_Drug_Cst_mean       | 0   \n",
      " Tot_Drug_Cst_max        | 0   \n",
      " GE65_Tot_Clms_sum       | 0   \n",
      " GE65_Tot_Clms_mean      | 0   \n",
      " GE65_Tot_Clms_max       | 0   \n",
      " GE65_Tot_Day_Suply_sum  | 0   \n",
      " GE65_Tot_Day_Suply_mean | 0   \n",
      " GE65_Tot_Day_Suply_max  | 0   \n",
      " city                    | 0   \n",
      " state                   | 0   \n",
      " Prscrbr_State_FIPS      | 6   \n",
      " last_name               | 0   \n",
      " first_name              | 13  \n",
      " Speciality              | 1   \n",
      " Total_Payment_Sum       | 0   \n",
      " is_fraud                | 0   \n",
      "\n",
      "None\n"
     ]
    }
   ],
   "source": [
    "# fill zero for null values\n",
    "Features_pd1 = Features_pd1.na.fill(value=0)\n",
    "\n",
    "print(\"Count of non nulls for each column:\")\n",
    "print(Features_pd1.select([count(when(F.col(c).isNotNull() , c)).alias(c) for c in Features_pd1.columns]) \\\n",
    "      .show(vertical = True))\n",
    "\n",
    "print(\"\\nCount of nulls in dataframe for each column:\")\n",
    "print(Features_pd1.select([count(when(F.col(c).isNull(),c)).alias(c) for c in Features_pd1.columns]) \\\n",
    "      .show(vertical = True))"
   ]
  },
  {
   "cell_type": "code",
   "execution_count": 55,
   "id": "54eb6b38",
   "metadata": {},
   "outputs": [
    {
     "name": "stdout",
     "output_type": "stream",
     "text": [
      "301\n",
      "root\n",
      " |-- Prscrbr_NPI: string (nullable = true)\n",
      " |-- Tot_Drug_Cst_sum: double (nullable = false)\n",
      " |-- Tot_Drug_Cst_mean: double (nullable = false)\n",
      " |-- Tot_Drug_Cst_max: double (nullable = false)\n",
      " |-- GE65_Tot_Clms_sum: double (nullable = false)\n",
      " |-- GE65_Tot_Clms_mean: double (nullable = false)\n",
      " |-- GE65_Tot_Clms_max: double (nullable = false)\n",
      " |-- GE65_Tot_Day_Suply_sum: double (nullable = false)\n",
      " |-- GE65_Tot_Day_Suply_mean: double (nullable = false)\n",
      " |-- GE65_Tot_Day_Suply_max: double (nullable = false)\n",
      " |-- city: string (nullable = true)\n",
      " |-- state: string (nullable = true)\n",
      " |-- Prscrbr_State_FIPS: string (nullable = true)\n",
      " |-- last_name: string (nullable = true)\n",
      " |-- first_name: string (nullable = true)\n",
      " |-- Speciality: string (nullable = true)\n",
      " |-- Total_Payment_Sum: double (nullable = false)\n",
      " |-- is_fraud: integer (nullable = true)\n",
      "\n"
     ]
    }
   ],
   "source": [
    "print(Features_pd1.where(Features_pd1.is_fraud == 1).count())\n",
    "Features_pd1.printSchema()"
   ]
  },
  {
   "cell_type": "code",
   "execution_count": 56,
   "id": "f4dbd09c",
   "metadata": {},
   "outputs": [],
   "source": [
    "FeaturesAll_pd = Features_pd1\n",
    "#FeaturesAll_pd.printSchema()\n",
    "\n",
    "# Scaling the features\n",
    "col_scaling = ['Tot_Drug_Cst_sum','Tot_Drug_Cst_mean','Tot_Drug_Cst_max',\n",
    "               'GE65_Tot_Clms_sum','GE65_Tot_Clms_mean','GE65_Tot_Clms_max',\n",
    "               'GE65_Tot_Day_Suply_sum','GE65_Tot_Day_Suply_mean','GE65_Tot_Day_Suply_max',\n",
    "               'Total_Payment_Sum']\n",
    "\n",
    "for c in col_scaling:\n",
    "    FeaturesAll_pd = FeaturesAll_pd.withColumn(c, F.log10(F.col(c)))"
   ]
  },
  {
   "cell_type": "code",
   "execution_count": 57,
   "id": "210bdf18",
   "metadata": {},
   "outputs": [
    {
     "name": "stdout",
     "output_type": "stream",
     "text": [
      "(1121504, 21)\n",
      "root\n",
      " |-- Prscrbr_NPI: string (nullable = true)\n",
      " |-- Tot_Drug_Cst_sum: double (nullable = true)\n",
      " |-- Tot_Drug_Cst_mean: double (nullable = true)\n",
      " |-- Tot_Drug_Cst_max: double (nullable = true)\n",
      " |-- GE65_Tot_Clms_sum: double (nullable = true)\n",
      " |-- GE65_Tot_Clms_mean: double (nullable = true)\n",
      " |-- GE65_Tot_Clms_max: double (nullable = true)\n",
      " |-- GE65_Tot_Day_Suply_sum: double (nullable = true)\n",
      " |-- GE65_Tot_Day_Suply_mean: double (nullable = true)\n",
      " |-- GE65_Tot_Day_Suply_max: double (nullable = true)\n",
      " |-- city: string (nullable = true)\n",
      " |-- state: string (nullable = true)\n",
      " |-- Prscrbr_State_FIPS: string (nullable = true)\n",
      " |-- last_name: string (nullable = true)\n",
      " |-- first_name: string (nullable = true)\n",
      " |-- Speciality: string (nullable = true)\n",
      " |-- Total_Payment_Sum: double (nullable = true)\n",
      " |-- is_fraud: integer (nullable = true)\n",
      " |-- drug_max-mean: double (nullable = true)\n",
      " |-- claim_max-mean: double (nullable = true)\n",
      " |-- supply_max-mean: double (nullable = true)\n",
      "\n",
      "+-----------+------------------+------------------+------------------+-----------------+------------------+-----------------+----------------------+-----------------------+----------------------+-----------+-----+------------------+---------+----------+----------+------------------+--------+-------------+--------------+---------------+\n",
      "|Prscrbr_NPI|  Tot_Drug_Cst_sum| Tot_Drug_Cst_mean|  Tot_Drug_Cst_max|GE65_Tot_Clms_sum|GE65_Tot_Clms_mean|GE65_Tot_Clms_max|GE65_Tot_Day_Suply_sum|GE65_Tot_Day_Suply_mean|GE65_Tot_Day_Suply_max|       city|state|Prscrbr_State_FIPS|last_name|first_name|Speciality| Total_Payment_Sum|is_fraud|drug_max-mean|claim_max-mean|supply_max-mean|\n",
      "+-----------+------------------+------------------+------------------+-----------------+------------------+-----------------+----------------------+-----------------------+----------------------+-----------+-----+------------------+---------+----------+----------+------------------+--------+-------------+--------------+---------------+\n",
      "| 1508427642|1.8439176380063924|1.8439176380063924|1.8439176380063924|             null|              null|             null|                  null|                   null|                  null|IDAHO FALLS|   ID|                16|   AABERG|  JENNIFER|   Dentist|              null|       0|          0.0|          null|           null|\n",
      "| 1235283672|1.9268567089496924|1.9268567089496924|1.9268567089496924|1.505149978319906| 1.505149978319906|1.505149978319906|     2.346352974450639|      2.346352974450639|     2.346352974450639|SIOUX FALLS|   SD|                46|  AADLAND|     AARON|   Dentist|0.8573324964312685|       0|          0.0|           0.0|            0.0|\n",
      "+-----------+------------------+------------------+------------------+-----------------+------------------+-----------------+----------------------+-----------------------+----------------------+-----------+-----+------------------+---------+----------+----------+------------------+--------+-------------+--------------+---------------+\n",
      "only showing top 2 rows\n",
      "\n"
     ]
    }
   ],
   "source": [
    "FeaturesAll_pd = FeaturesAll_pd.withColumn('drug_max-mean',\n",
    "                                           FeaturesAll_pd['Tot_Drug_Cst_max']-FeaturesAll_pd['Tot_Drug_Cst_mean'])\n",
    "FeaturesAll_pd = FeaturesAll_pd.withColumn('claim_max-mean',\n",
    "                                           FeaturesAll_pd['GE65_Tot_Clms_max']-FeaturesAll_pd['GE65_Tot_Clms_mean'])\n",
    "FeaturesAll_pd = FeaturesAll_pd.withColumn('supply_max-mean',\n",
    "                                           FeaturesAll_pd['GE65_Tot_Day_Suply_max']-FeaturesAll_pd['GE65_Tot_Day_Suply_mean'])\n",
    "\n",
    "print((FeaturesAll_pd.count(), len(FeaturesAll_pd.columns)))\n",
    "FeaturesAll_pd.printSchema()\n",
    "FeaturesAll_pd.show(2)"
   ]
  },
  {
   "cell_type": "code",
   "execution_count": 58,
   "id": "e6491c11",
   "metadata": {},
   "outputs": [],
   "source": [
    "#print(Features_pd1.where(Features_pd1.Prscrbr_NPI == '1003017443').show())\n",
    "#print(FeaturesAll_pd.where(FeaturesAll_pd.Prscrbr_NPI == '1003017443').show())"
   ]
  },
  {
   "cell_type": "code",
   "execution_count": 59,
   "id": "60a00502",
   "metadata": {},
   "outputs": [],
   "source": [
    "categorical_features = ['Prscrbr_NPI',\n",
    "                        'last_name',\n",
    "                        'first_name',\n",
    "                        'Speciality',\n",
    "                        'city',\n",
    "                        'state']\n",
    "\n",
    "numerical_features = ['Tot_Drug_Cst_sum',\n",
    "                      'Tot_Drug_Cst_mean',\n",
    "                      'Tot_Drug_Cst_max',\n",
    "                      'GE65_Tot_Clms_sum',\n",
    "                      'GE65_Tot_Clms_mean',\n",
    "                      'GE65_Tot_Clms_max',\n",
    "                      'GE65_Tot_Day_Suply_sum',\n",
    "                      'GE65_Tot_Day_Suply_mean',\n",
    "                      'GE65_Tot_Day_Suply_max',\n",
    "                      'claim_max-mean',\n",
    "                      'supply_max-mean',\n",
    "                      'drug_max-mean',\n",
    "                      'Total_Payment_Sum']\n",
    "\n",
    "x_vars = categorical_features + numerical_features\n",
    "\n",
    "y_var = ['is_fraud']"
   ]
  },
  {
   "cell_type": "code",
   "execution_count": 60,
   "id": "63b4eb69",
   "metadata": {},
   "outputs": [],
   "source": [
    "# correlation calculation & plotting heatmap\n",
    "corr_df = FeaturesAll_pd.select('Tot_Drug_Cst_sum',\n",
    "                                'Tot_Drug_Cst_mean',\n",
    "                                'Tot_Drug_Cst_max',\n",
    "                                'GE65_Tot_Clms_sum',\n",
    "                                'GE65_Tot_Clms_mean',\n",
    "                                'GE65_Tot_Clms_max',\n",
    "                                'GE65_Tot_Day_Suply_sum',\n",
    "                                'GE65_Tot_Day_Suply_mean',\n",
    "                                'GE65_Tot_Day_Suply_max',\n",
    "                                'Total_Payment_Sum',\n",
    "                                'is_fraud')"
   ]
  },
  {
   "cell_type": "code",
   "execution_count": null,
   "id": "0e1bf061",
   "metadata": {},
   "outputs": [],
   "source": [
    "#df_v.show()\n",
    "#type(cor_matrix)\n",
    "#type(df_v)\n",
    "#cor_matrix_pdf = cor_matrix.toPandas()"
   ]
  },
  {
   "cell_type": "code",
   "execution_count": null,
   "id": "722ae964",
   "metadata": {},
   "outputs": [],
   "source": [
    "# Convert the correlation matrix to a Pandas DataFrame\n",
    "\n",
    "cor_df_final = pd.DataFrame(cor_matrix.toArray().tolist(),\n",
    "                            columns=['Tot_Drug_Cst_sum',\n",
    "                                     'Tot_Drug_Cst_mean',\n",
    "                                     'Tot_Drug_Cst_max',\n",
    "                                     'GE65_Tot_Clms_sum',\n",
    "                                     'GE65_Tot_Clms_mean',\n",
    "                                     'GE65_Tot_Clms_max',\n",
    "                                     'GE65_Tot_Day_Suply_sum',\n",
    "                                     'GE65_Tot_Day_Suply_mean',\n",
    "                                     'GE65_Tot_Day_Suply_max',\n",
    "                                     'Total_Payment_Sum',\n",
    "                                     'is_fraud'])"
   ]
  },
  {
   "cell_type": "code",
   "execution_count": null,
   "id": "cc50cd3d",
   "metadata": {},
   "outputs": [],
   "source": [
    "# rows =['Tot_Drug_Cst_sum',\n",
    "#        'Tot_Drug_Cst_mean',\n",
    "#        'Tot_Drug_Cst_max',\n",
    "#        'GE65_Tot_Clms_sum',\n",
    "#        'GE65_Tot_Clms_mean',\n",
    "#        'GE65_Tot_Clms_max',\n",
    "#        'GE65_Tot_Day_Suply_sum',\n",
    "#        'GE65_Tot_Day_Suply_mean',\n",
    "#        'GE65_Tot_Day_Suply_max',\n",
    "#        'Total_Payment_Sum',\n",
    "#        'is_fraud'] \n",
    "\n",
    "# cor_df_final['rows'] = rows\n",
    "# cor_df_final.set_index('rows')"
   ]
  },
  {
   "cell_type": "code",
   "execution_count": null,
   "id": "3e0cfd04",
   "metadata": {},
   "outputs": [],
   "source": [
    "# Create a correlation heatmap plot using seaborn\n",
    "\n",
    "import seaborn as sns\n",
    "fig, ax = plt.subplots(figsize=(15,15)) \n",
    "g=sns.heatmap(cor_df_final, annot=True)"
   ]
  },
  {
   "cell_type": "code",
   "execution_count": 62,
   "id": "260879e8",
   "metadata": {},
   "outputs": [
    {
     "data": {
      "text/html": [
       "<div>\n",
       "<style scoped>\n",
       "    .dataframe tbody tr th:only-of-type {\n",
       "        vertical-align: middle;\n",
       "    }\n",
       "\n",
       "    .dataframe tbody tr th {\n",
       "        vertical-align: top;\n",
       "    }\n",
       "\n",
       "    .dataframe thead th {\n",
       "        text-align: right;\n",
       "    }\n",
       "</style>\n",
       "<table border=\"1\" class=\"dataframe\">\n",
       "  <thead>\n",
       "    <tr style=\"text-align: right;\">\n",
       "      <th></th>\n",
       "      <th>Speciality</th>\n",
       "      <th>0</th>\n",
       "      <th>1</th>\n",
       "    </tr>\n",
       "  </thead>\n",
       "  <tbody>\n",
       "    <tr>\n",
       "      <th>117</th>\n",
       "      <td>Internal Medicine</td>\n",
       "      <td>124932</td>\n",
       "      <td>72.0</td>\n",
       "    </tr>\n",
       "    <tr>\n",
       "      <th>34</th>\n",
       "      <td>Family Practice</td>\n",
       "      <td>126983</td>\n",
       "      <td>63.0</td>\n",
       "    </tr>\n",
       "    <tr>\n",
       "      <th>131</th>\n",
       "      <td>Nurse Practitioner</td>\n",
       "      <td>159470</td>\n",
       "      <td>19.0</td>\n",
       "    </tr>\n",
       "    <tr>\n",
       "      <th>11</th>\n",
       "      <td>Physical Medicine and Rehabilitation</td>\n",
       "      <td>8135</td>\n",
       "      <td>12.0</td>\n",
       "    </tr>\n",
       "    <tr>\n",
       "      <th>174</th>\n",
       "      <td>General Practice</td>\n",
       "      <td>8561</td>\n",
       "      <td>12.0</td>\n",
       "    </tr>\n",
       "    <tr>\n",
       "      <th>172</th>\n",
       "      <td>Dentist</td>\n",
       "      <td>103286</td>\n",
       "      <td>12.0</td>\n",
       "    </tr>\n",
       "    <tr>\n",
       "      <th>68</th>\n",
       "      <td>Psychiatry</td>\n",
       "      <td>23371</td>\n",
       "      <td>10.0</td>\n",
       "    </tr>\n",
       "    <tr>\n",
       "      <th>160</th>\n",
       "      <td>Psychiatry &amp; Neurology</td>\n",
       "      <td>10548</td>\n",
       "      <td>9.0</td>\n",
       "    </tr>\n",
       "    <tr>\n",
       "      <th>106</th>\n",
       "      <td>Obstetrics &amp; Gynecology</td>\n",
       "      <td>26168</td>\n",
       "      <td>8.0</td>\n",
       "    </tr>\n",
       "    <tr>\n",
       "      <th>144</th>\n",
       "      <td>Anesthesiology</td>\n",
       "      <td>4547</td>\n",
       "      <td>7.0</td>\n",
       "    </tr>\n",
       "  </tbody>\n",
       "</table>\n",
       "</div>"
      ],
      "text/plain": [
       "                               Speciality       0     1\n",
       "117                     Internal Medicine  124932  72.0\n",
       "34                        Family Practice  126983  63.0\n",
       "131                    Nurse Practitioner  159470  19.0\n",
       "11   Physical Medicine and Rehabilitation    8135  12.0\n",
       "174                      General Practice    8561  12.0\n",
       "172                               Dentist  103286  12.0\n",
       "68                             Psychiatry   23371  10.0\n",
       "160                Psychiatry & Neurology   10548   9.0\n",
       "106               Obstetrics & Gynecology   26168   8.0\n",
       "144                        Anesthesiology    4547   7.0"
      ]
     },
     "execution_count": 62,
     "metadata": {},
     "output_type": "execute_result"
    }
   ],
   "source": [
    "# Pivot summary & barchart viz\n",
    "Features_pivot_df = FeaturesAll_pd.groupby('Speciality')\\\n",
    "                    .pivot('is_fraud')\\\n",
    "                    .agg(F.count('Prscrbr_NPI'))\\\n",
    "                    .toPandas()\n",
    "\n",
    "Features_pivot_df = Features_pivot_df.sort_values('1', ascending = False).head(10)\n",
    "Features_pivot_df"
   ]
  },
  {
   "cell_type": "code",
   "execution_count": 63,
   "id": "39186ea2",
   "metadata": {
    "scrolled": true
   },
   "outputs": [
    {
     "data": {
      "text/plain": [
       "Text(0.5, 0, 'Fraud Count')"
      ]
     },
     "execution_count": 63,
     "metadata": {},
     "output_type": "execute_result"
    },
    {
     "data": {
      "image/png": "[encoded data removed]",
      "text/plain": [
       "<Figure size 432x288 with 1 Axes>"
      ]
     },
     "metadata": {
      "needs_background": "light"
     },
     "output_type": "display_data"
    }
   ],
   "source": [
    "# plot barchart\n",
    "Features_pivot_df.plot(x='Speciality', y='1', rot= 90, kind=\"bar\")\n",
    "#plot.xticks(rotation=45, horizontalalignment=\"center\")\n",
    "plt.figsize=(30,30)\n",
    "plt.title(\"Bar chart of Speciality vs Fraud Count\")\n",
    "plt.ylabel(\"Speciality\")\n",
    "plt.xlabel(\"Fraud Count\")"
   ]
  },
  {
   "cell_type": "code",
   "execution_count": 64,
   "id": "38221ca8",
   "metadata": {},
   "outputs": [],
   "source": [
    "# y = FeaturesAll_pd.select(y_var) # CHECK - obsolete step\n",
    "# X = FeaturesAll_pd[x_vars] # CHECK - obsolete step"
   ]
  },
  {
   "cell_type": "markdown",
   "id": "c8d63f3b",
   "metadata": {},
   "source": [
    "# Modelling of Dataset"
   ]
  },
  {
   "cell_type": "code",
   "execution_count": 65,
   "id": "e2771a74",
   "metadata": {},
   "outputs": [],
   "source": [
    "from pyspark.ml.evaluation import RegressionEvaluator\n",
    "from pyspark.ml.regression import LinearRegression\n",
    "from pyspark.ml.tuning import ParamGridBuilder, TrainValidationSplit"
   ]
  },
  {
   "cell_type": "code",
   "execution_count": 66,
   "id": "5eff3be6",
   "metadata": {},
   "outputs": [],
   "source": [
    "from pyspark.sql.functions import rand\n",
    "\n",
    "# Add a column of random values to the dataframe\n",
    "df = FeaturesAll_pd.withColumn('rand', rand())\n",
    "\n",
    "# Split the dataframe into training and validation sets\n",
    "X_train = df.filter('rand <= 0.8')\n",
    "X_valid = df.filter('rand > 0.8')\n",
    "\n",
    "# Remove the random column\n",
    "X_train = X_train.drop('rand')\n",
    "X_valid = X_valid.drop('rand')"
   ]
  },
  {
   "cell_type": "code",
   "execution_count": 67,
   "id": "c6878db5",
   "metadata": {},
   "outputs": [
    {
     "name": "stdout",
     "output_type": "stream",
     "text": [
      "Shape of X_train:\n",
      "(896617, 21)\n",
      "\n",
      "Shape of X_valid:\n",
      "(224887, 21)\n"
     ]
    }
   ],
   "source": [
    "print(\"Shape of X_train:\")\n",
    "print((X_train.count(), len(X_train.columns)))\n",
    "\n",
    "print(\"\\nShape of X_valid:\")\n",
    "print((X_valid.count(), len(X_valid.columns)))"
   ]
  },
  {
   "cell_type": "code",
   "execution_count": 68,
   "id": "f60e5bfd",
   "metadata": {},
   "outputs": [
    {
     "name": "stdout",
     "output_type": "stream",
     "text": [
      "Count of '1' in X_train:\n",
      "239\n",
      "\n",
      "Count of '1' in X_valid:\n",
      "62\n"
     ]
    }
   ],
   "source": [
    "print(\"Count of '1' in X_train:\")\n",
    "print(X_train.where(Features_pd1.is_fraud == 1).count())\n",
    "\n",
    "print(\"\\nCount of '1' in X_valid:\")\n",
    "print(X_valid.where(Features_pd1.is_fraud == 1).count())"
   ]
  },
  {
   "cell_type": "code",
   "execution_count": 69,
   "id": "e7ab2178",
   "metadata": {},
   "outputs": [],
   "source": [
    "X_train = X_train.na.fill(value=0)\n",
    "X_valid = X_valid.na.fill('NA', categorical_features)"
   ]
  },
  {
   "cell_type": "code",
   "execution_count": 70,
   "id": "9b28b67e",
   "metadata": {},
   "outputs": [
    {
     "name": "stdout",
     "output_type": "stream",
     "text": [
      "\n",
      "Count of nulls in train dataframe for each column:\n",
      "-RECORD 0----------------------\n",
      " Prscrbr_NPI             | 0   \n",
      " Tot_Drug_Cst_sum        | 0   \n",
      " Tot_Drug_Cst_mean       | 0   \n",
      " Tot_Drug_Cst_max        | 0   \n",
      " GE65_Tot_Clms_sum       | 0   \n",
      " GE65_Tot_Clms_mean      | 0   \n",
      " GE65_Tot_Clms_max       | 0   \n",
      " GE65_Tot_Day_Suply_sum  | 0   \n",
      " GE65_Tot_Day_Suply_mean | 0   \n",
      " GE65_Tot_Day_Suply_max  | 0   \n",
      " city                    | 0   \n",
      " state                   | 0   \n",
      " Prscrbr_State_FIPS      | 4   \n",
      " last_name               | 0   \n",
      " first_name              | 12  \n",
      " Speciality              | 1   \n",
      " Total_Payment_Sum       | 0   \n",
      " is_fraud                | 0   \n",
      " drug_max-mean           | 0   \n",
      " claim_max-mean          | 0   \n",
      " supply_max-mean         | 0   \n",
      "\n",
      "None\n"
     ]
    }
   ],
   "source": [
    "print(\"\\nCount of nulls in train dataframe for each column:\")\n",
    "print(X_train.select([count(when(F.col(c).isNull(),c)).alias(c) for c in X_train.columns]) \\\n",
    "      .show(vertical = True))"
   ]
  },
  {
   "cell_type": "code",
   "execution_count": 71,
   "id": "6d7636ac",
   "metadata": {},
   "outputs": [
    {
     "name": "stdout",
     "output_type": "stream",
     "text": [
      "\n",
      "Count of nulls in valid dataframe for each column:\n",
      "-RECORD 0-------------------------\n",
      " Prscrbr_NPI             | 0      \n",
      " Tot_Drug_Cst_sum        | 6      \n",
      " Tot_Drug_Cst_mean       | 6      \n",
      " Tot_Drug_Cst_max        | 6      \n",
      " GE65_Tot_Clms_sum       | 47862  \n",
      " GE65_Tot_Clms_mean      | 47862  \n",
      " GE65_Tot_Clms_max       | 47862  \n",
      " GE65_Tot_Day_Suply_sum  | 47862  \n",
      " GE65_Tot_Day_Suply_mean | 47862  \n",
      " GE65_Tot_Day_Suply_max  | 47862  \n",
      " city                    | 0      \n",
      " state                   | 0      \n",
      " Prscrbr_State_FIPS      | 2      \n",
      " last_name               | 0      \n",
      " first_name              | 0      \n",
      " Speciality              | 0      \n",
      " Total_Payment_Sum       | 134378 \n",
      " is_fraud                | 0      \n",
      " drug_max-mean           | 6      \n",
      " claim_max-mean          | 47862  \n",
      " supply_max-mean         | 47862  \n",
      "\n",
      "None\n"
     ]
    }
   ],
   "source": [
    "print(\"\\nCount of nulls in valid dataframe for each column:\")\n",
    "print(X_valid.select([count(when(F.col(c).isNull(),c)).alias(c) for c in X_valid.columns]) \\\n",
    "      .show(vertical = True))"
   ]
  },
  {
   "cell_type": "code",
   "execution_count": 72,
   "id": "837bb39d",
   "metadata": {},
   "outputs": [],
   "source": [
    "# convert to pandas df\n",
    "X_train_pandas_df = X_train.toPandas()"
   ]
  },
  {
   "cell_type": "code",
   "execution_count": 73,
   "id": "1b5354bf",
   "metadata": {},
   "outputs": [],
   "source": [
    "X_valid_pandas_df = X_valid.toPandas()"
   ]
  },
  {
   "cell_type": "code",
   "execution_count": 74,
   "id": "c7d39c7b",
   "metadata": {},
   "outputs": [
    {
     "data": {
      "text/plain": [
       "pandas.core.frame.DataFrame"
      ]
     },
     "execution_count": 74,
     "metadata": {},
     "output_type": "execute_result"
    }
   ],
   "source": [
    "type(X_train_pandas_df)"
   ]
  },
  {
   "cell_type": "code",
   "execution_count": 75,
   "id": "f08acd51",
   "metadata": {},
   "outputs": [],
   "source": [
    "y_train_pdf = X_train_pandas_df[y_var]\n",
    "y_valid_pdf = X_valid_pandas_df[y_var]\n",
    "\n",
    "X_train_pdf = X_train_pandas_df[x_vars]\n",
    "X_valid_pdf = X_valid_pandas_df[x_vars]"
   ]
  },
  {
   "cell_type": "code",
   "execution_count": 76,
   "id": "1b56bdb9",
   "metadata": {},
   "outputs": [
    {
     "name": "stdout",
     "output_type": "stream",
     "text": [
      "Shape of training dataset x & y : ((896579, 19), (896579, 1))\n",
      "Shape of testing dataset x & y: ((224925, 19), (224925, 1))\n"
     ]
    }
   ],
   "source": [
    "print(\"Shape of training dataset x & y :\",((X_train_pdf.shape), (y_train_pdf.shape)))\n",
    "print(\"Shape of testing dataset x & y:\",((X_valid_pdf.shape), (y_valid_pdf.shape)))"
   ]
  },
  {
   "cell_type": "code",
   "execution_count": 77,
   "id": "b75bb0d8",
   "metadata": {},
   "outputs": [
    {
     "name": "stderr",
     "output_type": "stream",
     "text": [
      "C:\\Users\\nchhat2\\AppData\\Local\\Temp\\ipykernel_12700\\4025827537.py:1: SettingWithCopyWarning: \n",
      "A value is trying to be set on a copy of a slice from a DataFrame.\n",
      "Try using .loc[row_indexer,col_indexer] = value instead\n",
      "\n",
      "See the caveats in the documentation: https://pandas.pydata.org/pandas-docs/stable/user_guide/indexing.html#returning-a-view-versus-a-copy\n",
      "  X_train_pdf[numerical_features] = X_train_pdf.loc[:,numerical_features].fillna(0)\n",
      "C:\\Users\\nchhat2\\AppData\\Local\\Temp\\ipykernel_12700\\4025827537.py:2: SettingWithCopyWarning: \n",
      "A value is trying to be set on a copy of a slice from a DataFrame.\n",
      "Try using .loc[row_indexer,col_indexer] = value instead\n",
      "\n",
      "See the caveats in the documentation: https://pandas.pydata.org/pandas-docs/stable/user_guide/indexing.html#returning-a-view-versus-a-copy\n",
      "  X_valid_pdf[numerical_features] = X_valid_pdf.loc[:,numerical_features].fillna(0)\n",
      "C:\\Users\\nchhat2\\AppData\\Local\\Temp\\ipykernel_12700\\4025827537.py:3: SettingWithCopyWarning: \n",
      "A value is trying to be set on a copy of a slice from a DataFrame.\n",
      "Try using .loc[row_indexer,col_indexer] = value instead\n",
      "\n",
      "See the caveats in the documentation: https://pandas.pydata.org/pandas-docs/stable/user_guide/indexing.html#returning-a-view-versus-a-copy\n",
      "  X_train_pdf[categorical_features] = X_train_pdf.loc[:,categorical_features].fillna('NA')\n",
      "C:\\Users\\nchhat2\\AppData\\Local\\Temp\\ipykernel_12700\\4025827537.py:4: SettingWithCopyWarning: \n",
      "A value is trying to be set on a copy of a slice from a DataFrame.\n",
      "Try using .loc[row_indexer,col_indexer] = value instead\n",
      "\n",
      "See the caveats in the documentation: https://pandas.pydata.org/pandas-docs/stable/user_guide/indexing.html#returning-a-view-versus-a-copy\n",
      "  X_valid_pdf[categorical_features] = X_valid_pdf.loc[:,categorical_features].fillna('NA')\n"
     ]
    }
   ],
   "source": [
    "X_train_pdf[numerical_features] = X_train_pdf.loc[:,numerical_features].fillna(0) \n",
    "X_valid_pdf[numerical_features] = X_valid_pdf.loc[:,numerical_features].fillna(0) \n",
    "X_train_pdf[categorical_features] = X_train_pdf.loc[:,categorical_features].fillna('NA') \n",
    "X_valid_pdf[categorical_features] = X_valid_pdf.loc[:,categorical_features].fillna('NA')"
   ]
  },
  {
   "cell_type": "code",
   "execution_count": 78,
   "id": "e37a1104",
   "metadata": {},
   "outputs": [
    {
     "name": "stdout",
     "output_type": "stream",
     "text": [
      "X_train_pdf nulls:\n",
      " Prscrbr_NPI                0\n",
      "last_name                  0\n",
      "first_name                 0\n",
      "Speciality                 0\n",
      "city                       0\n",
      "state                      0\n",
      "Tot_Drug_Cst_sum           0\n",
      "Tot_Drug_Cst_mean          0\n",
      "Tot_Drug_Cst_max           0\n",
      "GE65_Tot_Clms_sum          0\n",
      "GE65_Tot_Clms_mean         0\n",
      "GE65_Tot_Clms_max          0\n",
      "GE65_Tot_Day_Suply_sum     0\n",
      "GE65_Tot_Day_Suply_mean    0\n",
      "GE65_Tot_Day_Suply_max     0\n",
      "claim_max-mean             0\n",
      "supply_max-mean            0\n",
      "drug_max-mean              0\n",
      "Total_Payment_Sum          0\n",
      "dtype: int64\n",
      "\n",
      "X_valid_pdf nulls:\n",
      " Prscrbr_NPI                0\n",
      "last_name                  0\n",
      "first_name                 0\n",
      "Speciality                 0\n",
      "city                       0\n",
      "state                      0\n",
      "Tot_Drug_Cst_sum           0\n",
      "Tot_Drug_Cst_mean          0\n",
      "Tot_Drug_Cst_max           0\n",
      "GE65_Tot_Clms_sum          0\n",
      "GE65_Tot_Clms_mean         0\n",
      "GE65_Tot_Clms_max          0\n",
      "GE65_Tot_Day_Suply_sum     0\n",
      "GE65_Tot_Day_Suply_mean    0\n",
      "GE65_Tot_Day_Suply_max     0\n",
      "claim_max-mean             0\n",
      "supply_max-mean            0\n",
      "drug_max-mean              0\n",
      "Total_Payment_Sum          0\n",
      "dtype: int64\n"
     ]
    }
   ],
   "source": [
    "print(\"X_train_pdf nulls:\\n\",X_train_pdf.isnull().sum())\n",
    "print(\"\\nX_valid_pdf nulls:\\n\",X_valid_pdf.isnull().sum())"
   ]
  },
  {
   "cell_type": "code",
   "execution_count": 79,
   "id": "91a6328c",
   "metadata": {},
   "outputs": [
    {
     "name": "stderr",
     "output_type": "stream",
     "text": [
      "C:\\Users\\nchhat2\\AppData\\Local\\Temp\\ipykernel_12700\\1046930032.py:2: SettingWithCopyWarning: \n",
      "A value is trying to be set on a copy of a slice from a DataFrame.\n",
      "Try using .loc[row_indexer,col_indexer] = value instead\n",
      "\n",
      "See the caveats in the documentation: https://pandas.pydata.org/pandas-docs/stable/user_guide/indexing.html#returning-a-view-versus-a-copy\n",
      "  X_train_pdf[numerical_features] = scaler.fit_transform(X_train_pdf[numerical_features].values)\n",
      "C:\\Users\\nchhat2\\AppData\\Local\\Temp\\ipykernel_12700\\1046930032.py:3: SettingWithCopyWarning: \n",
      "A value is trying to be set on a copy of a slice from a DataFrame.\n",
      "Try using .loc[row_indexer,col_indexer] = value instead\n",
      "\n",
      "See the caveats in the documentation: https://pandas.pydata.org/pandas-docs/stable/user_guide/indexing.html#returning-a-view-versus-a-copy\n",
      "  X_valid_pdf[numerical_features] = scaler.transform(X_valid_pdf[numerical_features].values)\n"
     ]
    }
   ],
   "source": [
    "scaler= StandardScaler() \n",
    "X_train_pdf[numerical_features] = scaler.fit_transform(X_train_pdf[numerical_features].values)\n",
    "X_valid_pdf[numerical_features] = scaler.transform(X_valid_pdf[numerical_features].values)"
   ]
  },
  {
   "cell_type": "code",
   "execution_count": 80,
   "id": "430e9754",
   "metadata": {},
   "outputs": [
    {
     "name": "stdout",
     "output_type": "stream",
     "text": [
      "Tot_Drug_Cst_sum           float64\n",
      "Tot_Drug_Cst_mean          float64\n",
      "Tot_Drug_Cst_max           float64\n",
      "GE65_Tot_Clms_sum          float64\n",
      "GE65_Tot_Clms_mean         float64\n",
      "GE65_Tot_Clms_max          float64\n",
      "GE65_Tot_Day_Suply_sum     float64\n",
      "GE65_Tot_Day_Suply_mean    float64\n",
      "GE65_Tot_Day_Suply_max     float64\n",
      "claim_max-mean             float64\n",
      "supply_max-mean            float64\n",
      "drug_max-mean              float64\n",
      "Total_Payment_Sum          float64\n",
      "dtype: object\n"
     ]
    }
   ],
   "source": [
    "print(X_train_pdf[numerical_features].dtypes)"
   ]
  },
  {
   "cell_type": "code",
   "execution_count": 81,
   "id": "c631810e",
   "metadata": {},
   "outputs": [],
   "source": [
    "X_train_pdf_temp = X_train_pdf[numerical_features]\n",
    "y_train_pdf_temp = y_train_pdf\n",
    "\n",
    "X_valid_pdf_temp = X_valid_pdf[numerical_features]\n",
    "y_valid_pdf_temp = y_valid_pdf"
   ]
  },
  {
   "cell_type": "code",
   "execution_count": 82,
   "id": "125f1179",
   "metadata": {},
   "outputs": [],
   "source": [
    "params_0 = {'n_estimators': 100, 'max_depth': 8, 'min_samples_split': 3, 'learning_rate': 0.01}\n",
    "params_1 = {'n_estimators': 500, 'max_depth': 10, 'min_samples_split': 5, 'class_weight' : {0:1, 1:2514}, 'n_jobs':5}\n",
    "\n",
    "scaler = StandardScaler()\n",
    "    \n",
    "clfs = [\n",
    "    LogisticRegression(C=1e5,class_weight= {0:1, 1:2514}, n_jobs=5),\n",
    "    \n",
    "    GaussianNB(),\n",
    "\n",
    "    ensemble.RandomForestClassifier(**params_1),\n",
    "\n",
    "    ensemble.ExtraTreesClassifier(**params_1),\n",
    "    \n",
    "    ensemble.GradientBoostingClassifier(**params_0)\n",
    "    \n",
    "    ]"
   ]
  },
  {
   "cell_type": "code",
   "execution_count": 84,
   "id": "a9738f85",
   "metadata": {},
   "outputs": [
    {
     "name": "stdout",
     "output_type": "stream",
     "text": [
      "LogisticRegression:\n"
     ]
    },
    {
     "name": "stderr",
     "output_type": "stream",
     "text": [
      "C:\\Users\\nchhat2\\Anaconda3\\lib\\site-packages\\sklearn\\utils\\validation.py:1111: DataConversionWarning: A column-vector y was passed when a 1d array was expected. Please change the shape of y to (n_samples, ), for example using ravel().\n",
      "  y = column_or_1d(y, warn=True)\n"
     ]
    },
    {
     "name": "stdout",
     "output_type": "stream",
     "text": [
      "\tPrecision: 0.00058\n",
      "\tRecall: 0.26866\n",
      "\tF1: 0.00115\n",
      "\tauc: 0.62643\n",
      "\tAccuracy: 0.86088\n",
      "\n",
      "GaussianNB:\n"
     ]
    },
    {
     "name": "stderr",
     "output_type": "stream",
     "text": [
      "C:\\Users\\nchhat2\\Anaconda3\\lib\\site-packages\\sklearn\\utils\\validation.py:1111: DataConversionWarning: A column-vector y was passed when a 1d array was expected. Please change the shape of y to (n_samples, ), for example using ravel().\n",
      "  y = column_or_1d(y, warn=True)\n",
      "C:\\Users\\nchhat2\\Anaconda3\\lib\\site-packages\\sklearn\\metrics\\_classification.py:1334: UndefinedMetricWarning: Precision is ill-defined and being set to 0.0 due to no predicted samples. Use `zero_division` parameter to control this behavior.\n",
      "  _warn_prf(average, modifier, msg_start, len(result))\n"
     ]
    },
    {
     "name": "stdout",
     "output_type": "stream",
     "text": [
      "\tPrecision: 0.00000\n",
      "\tRecall: 0.00000\n",
      "\tF1: 0.00000\n",
      "\tauc: 0.59096\n",
      "\tAccuracy: 0.99970\n",
      "\n",
      "RandomForestClassifier:\n"
     ]
    },
    {
     "name": "stderr",
     "output_type": "stream",
     "text": [
      "C:\\Users\\nchhat2\\AppData\\Local\\Temp\\ipykernel_12700\\4119342834.py:6: DataConversionWarning: A column-vector y was passed when a 1d array was expected. Please change the shape of y to (n_samples,), for example using ravel().\n",
      "  clf.fit(X_train_pdf_temp,y_train_pdf_temp)\n"
     ]
    },
    {
     "name": "stdout",
     "output_type": "stream",
     "text": [
      "\tPrecision: 0.01916\n",
      "\tRecall: 0.16418\n",
      "\tF1: 0.03432\n",
      "\tauc: 0.67990\n",
      "\tAccuracy: 0.99725\n",
      "\n",
      "ExtraTreesClassifier:\n"
     ]
    },
    {
     "name": "stderr",
     "output_type": "stream",
     "text": [
      "C:\\Users\\nchhat2\\AppData\\Local\\Temp\\ipykernel_12700\\4119342834.py:6: DataConversionWarning: A column-vector y was passed when a 1d array was expected. Please change the shape of y to (n_samples,), for example using ravel().\n",
      "  clf.fit(X_train_pdf_temp,y_train_pdf_temp)\n"
     ]
    },
    {
     "name": "stdout",
     "output_type": "stream",
     "text": [
      "\tPrecision: 0.00313\n",
      "\tRecall: 0.14925\n",
      "\tF1: 0.00613\n",
      "\tauc: 0.65353\n",
      "\tAccuracy: 0.98558\n",
      "\n",
      "GradientBoostingClassifier:\n"
     ]
    },
    {
     "name": "stderr",
     "output_type": "stream",
     "text": [
      "C:\\Users\\nchhat2\\Anaconda3\\lib\\site-packages\\sklearn\\ensemble\\_gb.py:570: DataConversionWarning: A column-vector y was passed when a 1d array was expected. Please change the shape of y to (n_samples, ), for example using ravel().\n",
      "  y = column_or_1d(y, warn=True)\n"
     ]
    },
    {
     "name": "stdout",
     "output_type": "stream",
     "text": [
      "\tPrecision: 0.20635\n",
      "\tRecall: 0.19403\n",
      "\tF1: 0.20000\n",
      "\tauc: 0.66574\n",
      "\tAccuracy: 0.99954\n",
      "\n"
     ]
    }
   ],
   "source": [
    "prob_result = []\n",
    "df_m = []\n",
    "clfs_fited = []\n",
    "for clf in clfs:\n",
    "    print(\"%s:\" %  clf.__class__.__name__)\n",
    "    clf.fit(X_train_pdf_temp,y_train_pdf_temp)\n",
    "    clfs_fited.append(clf)\n",
    "    y_pred = clf.predict(X_valid_pdf_temp)\n",
    "    prob_pos  = clf.predict_proba(X_valid_pdf_temp)[:, 1]\n",
    "    prob_result.append(prob_pos)\n",
    "    m = confusion_matrix(y_valid_pdf_temp, y_pred)\n",
    "    #clf_score = brier_score_loss(y_valid_pdf_temp, prob_pos, pos_label=y_valid_pdf_temp.max())\n",
    "    #print(\"\\tBrier: %1.5f\" % (clf_score))\n",
    "    print(\"\\tPrecision: %1.5f\" % precision_score(y_valid_pdf_temp, y_pred))\n",
    "    print(\"\\tRecall: %1.5f\" % recall_score(y_valid_pdf_temp, y_pred))\n",
    "    print(\"\\tF1: %1.5f\" % f1_score(y_valid_pdf_temp, y_pred))\n",
    "    print(\"\\tauc: %1.5f\" % roc_auc_score(y_valid_pdf_temp, prob_pos))\n",
    "    print(\"\\tAccuracy: %1.5f\\n\" % accuracy_score(y_valid_pdf_temp, y_pred))\n",
    "    df_m.append(\n",
    "        pd.DataFrame(m, index=['True Negative', 'True Positive'], columns=['Pred. Negative', 'Pred. Positive'])\n",
    "        )"
   ]
  },
  {
   "cell_type": "code",
   "execution_count": 85,
   "id": "c57e6b80",
   "metadata": {},
   "outputs": [],
   "source": [
    "# y_train_pdf_temp.head\n",
    "# print(y_train_pdf_temp.shape)\n",
    "# print(type(y_train_pdf_temp))\n",
    "\n",
    "# y_valid_pdf_temp.head()\n",
    "# y_valid_pdf_temp.columns.values\n",
    "# y_valid_pdf_temp[y_valid_pdf_temp['is_fraud'] == 1].count()\n",
    "# y_valid_pdf[y_valid_pdf['is_fraud'] == 1].count()\n",
    "# print(X_valid.where(X_valid.is_fraud == 1).count())\n",
    "# len(X_valid_pandas_df[X_valid_pandas_df['is_fraud'] == 1])\n",
    "\n",
    "# print(prob_result)\n",
    "# print(prob_result[2])"
   ]
  },
  {
   "cell_type": "code",
   "execution_count": 86,
   "id": "19d4ac29",
   "metadata": {},
   "outputs": [
    {
     "data": {
      "image/png": "[encoded data removed]",
      "text/plain": [
       "<Figure size 432x288 with 1 Axes>"
      ]
     },
     "metadata": {
      "needs_background": "light"
     },
     "output_type": "display_data"
    }
   ],
   "source": [
    "# plot ROC Curve\n",
    "\n",
    "from sklearn.metrics import roc_curve, auc\n",
    "fpr, tpr, thresholds = roc_curve(y_valid_pdf_temp, prob_result[2])\n",
    "roc_auc = auc(fpr, tpr)\n",
    "plt.plot(fpr, tpr, lw=1, label='ROC (area = %0.2f)' % roc_auc)\n",
    "plt.xlim([-0.05, 1.05])\n",
    "plt.ylim([-0.05, 1.05])\n",
    "plt.xlabel('False Positive Rate')\n",
    "plt.ylabel('True Positive Rate')\n",
    "plt.title('Receiver operating characteristic')\n",
    "plt.legend(loc=\"lower right\")\n",
    "plt.show()"
   ]
  },
  {
   "cell_type": "code",
   "execution_count": 87,
   "id": "9933f161",
   "metadata": {},
   "outputs": [],
   "source": [
    "# plot feature importance\n",
    "\n",
    "feature_importance = clfs_fited[2].feature_importances_\n",
    "# make importances relative to max importance\n",
    "feature_importance = 100.0 * (feature_importance / feature_importance.max())\n",
    "sorted_idx = np.argsort(feature_importance)\n",
    "\n",
    "features = [numerical_features[ix] for ix in sorted_idx]\n",
    "bardata = {\"name\":features[::-1], \"importance percent\":feature_importance[sorted_idx][::-1]}"
   ]
  },
  {
   "cell_type": "code",
   "execution_count": 88,
   "id": "fabd5d6e",
   "metadata": {},
   "outputs": [
    {
     "data": {
      "image/png": "[encoded data removed]",
      "text/plain": [
       "<Figure size 432x288 with 1 Axes>"
      ]
     },
     "metadata": {
      "needs_background": "light"
     },
     "output_type": "display_data"
    }
   ],
   "source": [
    "plt.figure()\n",
    "\n",
    "# Create plot title\n",
    "plt.title(\"Feature Importance\")\n",
    "\n",
    "# Add bars\n",
    "plt.bar(range(X_train_pdf_temp.shape[1]), feature_importance[sorted_idx])\n",
    "\n",
    "# Add feature names as x-axis labels\n",
    "plt.xticks(range(X_train_pdf_temp.shape[1]), features, rotation=90)\n",
    "\n",
    "# Show plot\n",
    "plt.show()"
   ]
  },
  {
   "cell_type": "code",
   "execution_count": 89,
   "id": "13529aea",
   "metadata": {},
   "outputs": [],
   "source": [
    "# print(df_m)\n",
    "# print(df_m[2])"
   ]
  },
  {
   "cell_type": "code",
   "execution_count": 90,
   "id": "9440d52e",
   "metadata": {},
   "outputs": [
    {
     "data": {
      "image/png": "[encoded data removed]",
      "text/plain": [
       "<Figure size 720x576 with 2 Axes>"
      ]
     },
     "metadata": {
      "needs_background": "light"
     },
     "output_type": "display_data"
    }
   ],
   "source": [
    "# plot heatmap\n",
    "\n",
    "import seaborn as sns\n",
    "fig, ax = plt.subplots(figsize = (10, 8))\n",
    "cf_heatmap = sns.heatmap(data = df_m[2], annot=True, ax = ax, fmt = 'd')\n",
    "cf_heatmap.yaxis.set_ticklabels(cf_heatmap.yaxis.get_ticklabels(), fontsize = 12)\n",
    "cf_heatmap.xaxis.set_ticklabels(cf_heatmap.xaxis.get_ticklabels(), fontsize = 12)\n",
    "\n",
    "plt.title(f\"Confusion Matrix - Random Forest Classifier\", fontsize = 18, pad = 12, color = 'darkblue')\n",
    "plt.ylabel('True label', fontsize = 14)\n",
    "plt.xlabel('Predicted label', fontsize = 14)\n",
    "plt.show()"
   ]
  }
 ],
 "metadata": {
  "kernelspec": {
   "display_name": "Python 3 (ipykernel)",
   "language": "python",
   "name": "python3"
  },
  "language_info": {
   "codemirror_mode": {
    "name": "ipython",
    "version": 3
   },
   "file_extension": ".py",
   "mimetype": "text/x-python",
   "name": "python",
   "nbconvert_exporter": "python",
   "pygments_lexer": "ipython3",
   "version": "3.9.13"
  }
 },
 "nbformat": 4,
 "nbformat_minor": 5
}
